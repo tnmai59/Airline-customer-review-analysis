{
 "cells": [
  {
   "cell_type": "code",
   "execution_count": 1,
   "id": "ce0726e1",
   "metadata": {
    "_cell_guid": "d463b457-b858-402e-905d-8464eef4b05b",
    "_uuid": "5b69799e-6650-42c6-a082-785c5a6d3ea7",
    "collapsed": false,
    "execution": {
     "iopub.execute_input": "2024-02-19T01:49:44.208605Z",
     "iopub.status.busy": "2024-02-19T01:49:44.207891Z",
     "iopub.status.idle": "2024-02-19T01:49:47.458029Z",
     "shell.execute_reply": "2024-02-19T01:49:47.456961Z"
    },
    "jupyter": {
     "outputs_hidden": false
    },
    "papermill": {
     "duration": 3.271344,
     "end_time": "2024-02-19T01:49:47.461711",
     "exception": false,
     "start_time": "2024-02-19T01:49:44.190367",
     "status": "completed"
    },
    "tags": []
   },
   "outputs": [],
   "source": [
    "import pandas as pd \n",
    "import numpy as np \n",
    "import nltk\n",
    "from nltk.corpus import stopwords\n",
    "from nltk.stem import WordNetLemmatizer\n",
    "import re"
   ]
  },
  {
   "cell_type": "code",
   "execution_count": 2,
   "id": "7976088d",
   "metadata": {
    "execution": {
     "iopub.execute_input": "2024-02-19T01:49:47.493283Z",
     "iopub.status.busy": "2024-02-19T01:49:47.492514Z",
     "iopub.status.idle": "2024-02-19T01:49:49.124972Z",
     "shell.execute_reply": "2024-02-19T01:49:49.123192Z"
    },
    "papermill": {
     "duration": 1.651538,
     "end_time": "2024-02-19T01:49:49.128190",
     "exception": false,
     "start_time": "2024-02-19T01:49:47.476652",
     "status": "completed"
    },
    "tags": []
   },
   "outputs": [
    {
     "name": "stdout",
     "output_type": "stream",
     "text": [
      "[nltk_data] Downloading package wordnet to /usr/share/nltk_data...\n",
      "[nltk_data]   Package wordnet is already up-to-date!\n",
      "Archive:  /usr/share/nltk_data/corpora/wordnet.zip\r\n",
      "   creating: /usr/share/nltk_data/corpora/wordnet/\r\n",
      "  inflating: /usr/share/nltk_data/corpora/wordnet/lexnames  \r\n",
      "  inflating: /usr/share/nltk_data/corpora/wordnet/data.verb  \r\n",
      "  inflating: /usr/share/nltk_data/corpora/wordnet/index.adv  \r\n",
      "  inflating: /usr/share/nltk_data/corpora/wordnet/adv.exc  \r\n",
      "  inflating: /usr/share/nltk_data/corpora/wordnet/index.verb  \r\n",
      "  inflating: /usr/share/nltk_data/corpora/wordnet/cntlist.rev  \r\n",
      "  inflating: /usr/share/nltk_data/corpora/wordnet/data.adj  \r\n",
      "  inflating: /usr/share/nltk_data/corpora/wordnet/index.adj  \r\n",
      "  inflating: /usr/share/nltk_data/corpora/wordnet/LICENSE  \r\n",
      "  inflating: /usr/share/nltk_data/corpora/wordnet/citation.bib  \r\n",
      "  inflating: /usr/share/nltk_data/corpora/wordnet/noun.exc  \r\n",
      "  inflating: /usr/share/nltk_data/corpora/wordnet/verb.exc  \r\n",
      "  inflating: /usr/share/nltk_data/corpora/wordnet/README  \r\n",
      "  inflating: /usr/share/nltk_data/corpora/wordnet/index.sense  \r\n",
      "  inflating: /usr/share/nltk_data/corpora/wordnet/data.noun  \r\n",
      "  inflating: /usr/share/nltk_data/corpora/wordnet/data.adv  \r\n",
      "  inflating: /usr/share/nltk_data/corpora/wordnet/index.noun  \r\n",
      "  inflating: /usr/share/nltk_data/corpora/wordnet/adj.exc  \r\n"
     ]
    }
   ],
   "source": [
    "nltk.download('wordnet')\n",
    "!unzip  /usr/share/nltk_data/corpora/wordnet.zip -d  /usr/share/nltk_data/corpora/"
   ]
  },
  {
   "cell_type": "code",
   "execution_count": 3,
   "id": "4dc55d9f",
   "metadata": {
    "_cell_guid": "53f655d0-19e3-4933-ab24-926329a9bf97",
    "_uuid": "d87582ea-9bd1-4dc7-8bb5-068e561f95c9",
    "collapsed": false,
    "execution": {
     "iopub.execute_input": "2024-02-19T01:49:49.160354Z",
     "iopub.status.busy": "2024-02-19T01:49:49.159775Z",
     "iopub.status.idle": "2024-02-19T01:49:50.709002Z",
     "shell.execute_reply": "2024-02-19T01:49:50.707552Z"
    },
    "jupyter": {
     "outputs_hidden": false
    },
    "papermill": {
     "duration": 1.568811,
     "end_time": "2024-02-19T01:49:50.712051",
     "exception": false,
     "start_time": "2024-02-19T01:49:49.143240",
     "status": "completed"
    },
    "tags": []
   },
   "outputs": [
    {
     "data": {
      "text/html": [
       "<div>\n",
       "<style scoped>\n",
       "    .dataframe tbody tr th:only-of-type {\n",
       "        vertical-align: middle;\n",
       "    }\n",
       "\n",
       "    .dataframe tbody tr th {\n",
       "        vertical-align: top;\n",
       "    }\n",
       "\n",
       "    .dataframe thead th {\n",
       "        text-align: right;\n",
       "    }\n",
       "</style>\n",
       "<table border=\"1\" class=\"dataframe\">\n",
       "  <thead>\n",
       "    <tr style=\"text-align: right;\">\n",
       "      <th></th>\n",
       "      <th>Review id</th>\n",
       "      <th>Review header</th>\n",
       "      <th>Review</th>\n",
       "      <th>Recommended</th>\n",
       "    </tr>\n",
       "  </thead>\n",
       "  <tbody>\n",
       "    <tr>\n",
       "      <th>0</th>\n",
       "      <td>anchor885571</td>\n",
       "      <td>\"very terrible experience\"</td>\n",
       "      <td>✅ Trip Verified |  I bought roundtrip and retu...</td>\n",
       "      <td>no</td>\n",
       "    </tr>\n",
       "    <tr>\n",
       "      <th>1</th>\n",
       "      <td>anchor881710</td>\n",
       "      <td>\"very concerned about the safety of Aeroflot\"</td>\n",
       "      <td>✅ Trip Verified |  I am shocked at how far Aer...</td>\n",
       "      <td>no</td>\n",
       "    </tr>\n",
       "    <tr>\n",
       "      <th>2</th>\n",
       "      <td>anchor767446</td>\n",
       "      <td>\"felt very rushed and unpolished\"</td>\n",
       "      <td>✅ Trip Verified |  Aeroflot has set high stand...</td>\n",
       "      <td>no</td>\n",
       "    </tr>\n",
       "    <tr>\n",
       "      <th>3</th>\n",
       "      <td>anchor758822</td>\n",
       "      <td>\"Best airline in Russia\"</td>\n",
       "      <td>Not Verified |  Best airline in Russia! Very n...</td>\n",
       "      <td>yes</td>\n",
       "    </tr>\n",
       "    <tr>\n",
       "      <th>4</th>\n",
       "      <td>anchor754420</td>\n",
       "      <td>\"cabin crew were outstanding\"</td>\n",
       "      <td>✅ Trip Verified |  I was very impressed with t...</td>\n",
       "      <td>yes</td>\n",
       "    </tr>\n",
       "  </tbody>\n",
       "</table>\n",
       "</div>"
      ],
      "text/plain": [
       "      Review id                                  Review header  \\\n",
       "0  anchor885571                    \"very terrible experience\"    \n",
       "1  anchor881710  \"very concerned about the safety of Aeroflot\"   \n",
       "2  anchor767446              \"felt very rushed and unpolished\"   \n",
       "3  anchor758822                       \"Best airline in Russia\"   \n",
       "4  anchor754420                  \"cabin crew were outstanding\"   \n",
       "\n",
       "                                              Review Recommended  \n",
       "0  ✅ Trip Verified |  I bought roundtrip and retu...          no  \n",
       "1  ✅ Trip Verified |  I am shocked at how far Aer...          no  \n",
       "2  ✅ Trip Verified |  Aeroflot has set high stand...          no  \n",
       "3  Not Verified |  Best airline in Russia! Very n...         yes  \n",
       "4  ✅ Trip Verified |  I was very impressed with t...         yes  "
      ]
     },
     "execution_count": 3,
     "metadata": {},
     "output_type": "execute_result"
    }
   ],
   "source": [
    "text = pd.read_csv('/kaggle/input/airline/text_merged.csv')\n",
    "text.head()"
   ]
  },
  {
   "cell_type": "code",
   "execution_count": 4,
   "id": "aa0e7ca2",
   "metadata": {
    "_cell_guid": "fabab83d-a827-4558-b6b0-6f72c06a7350",
    "_uuid": "a27b2872-fe50-4420-852b-894b3f81ce8f",
    "collapsed": false,
    "execution": {
     "iopub.execute_input": "2024-02-19T01:49:50.745615Z",
     "iopub.status.busy": "2024-02-19T01:49:50.745120Z",
     "iopub.status.idle": "2024-02-19T01:49:50.811214Z",
     "shell.execute_reply": "2024-02-19T01:49:50.809643Z"
    },
    "jupyter": {
     "outputs_hidden": false
    },
    "papermill": {
     "duration": 0.086437,
     "end_time": "2024-02-19T01:49:50.814139",
     "exception": false,
     "start_time": "2024-02-19T01:49:50.727702",
     "status": "completed"
    },
    "tags": []
   },
   "outputs": [
    {
     "name": "stdout",
     "output_type": "stream",
     "text": [
      "<class 'pandas.core.frame.DataFrame'>\n",
      "RangeIndex: 57932 entries, 0 to 57931\n",
      "Data columns (total 4 columns):\n",
      " #   Column         Non-Null Count  Dtype \n",
      "---  ------         --------------  ----- \n",
      " 0   Review id      57932 non-null  object\n",
      " 1   Review header  57932 non-null  object\n",
      " 2   Review         57932 non-null  object\n",
      " 3   Recommended    57932 non-null  object\n",
      "dtypes: object(4)\n",
      "memory usage: 1.8+ MB\n"
     ]
    }
   ],
   "source": [
    "text.info()"
   ]
  },
  {
   "cell_type": "markdown",
   "id": "a4854156",
   "metadata": {
    "papermill": {
     "duration": 0.015764,
     "end_time": "2024-02-19T01:49:50.845147",
     "exception": false,
     "start_time": "2024-02-19T01:49:50.829383",
     "status": "completed"
    },
    "tags": []
   },
   "source": [
    "## 0. Convert to ASCII code"
   ]
  },
  {
   "cell_type": "code",
   "execution_count": 5,
   "id": "91704ac8",
   "metadata": {
    "execution": {
     "iopub.execute_input": "2024-02-19T01:49:50.877822Z",
     "iopub.status.busy": "2024-02-19T01:49:50.877370Z",
     "iopub.status.idle": "2024-02-19T01:49:51.364079Z",
     "shell.execute_reply": "2024-02-19T01:49:51.362778Z"
    },
    "papermill": {
     "duration": 0.506828,
     "end_time": "2024-02-19T01:49:51.367261",
     "exception": false,
     "start_time": "2024-02-19T01:49:50.860433",
     "status": "completed"
    },
    "tags": []
   },
   "outputs": [],
   "source": [
    "import unicodedata\n",
    "\n",
    "def remove_accented_chars(x):\n",
    "    \"\"\"\n",
    "    The function changes the accented characters into their equivalent normal form,\n",
    "    to do so, the normalize function with 'NFKD' is used which replaces the compatibility characters into\n",
    "    their equivalent.\n",
    "\n",
    "    Parameters:\n",
    "    - x (str): the sentence in which accented characters are to be detected and removed\n",
    "\n",
    "    Returns:\n",
    "    - x (str): sentence with accented characters replaced by their equivalent\n",
    "    \"\"\"\n",
    "    x = unicodedata.normalize('NFKD', x).encode('ascii', 'ignore').decode('utf-8', 'ignore')\n",
    "    return x\n",
    "\n",
    "text['Review'] = text['Review'].apply(remove_accented_chars)\n",
    "text['Review'] = text['Review'].str.replace(r'_', ' ', regex=True)"
   ]
  },
  {
   "cell_type": "code",
   "execution_count": 6,
   "id": "59a6ce5c",
   "metadata": {
    "execution": {
     "iopub.execute_input": "2024-02-19T01:49:51.399942Z",
     "iopub.status.busy": "2024-02-19T01:49:51.399485Z",
     "iopub.status.idle": "2024-02-19T01:49:51.407291Z",
     "shell.execute_reply": "2024-02-19T01:49:51.406096Z"
    },
    "papermill": {
     "duration": 0.02729,
     "end_time": "2024-02-19T01:49:51.409765",
     "exception": false,
     "start_time": "2024-02-19T01:49:51.382475",
     "status": "completed"
    },
    "tags": []
   },
   "outputs": [
    {
     "data": {
      "text/plain": [
       "'Khoa Hoc Du lieu'"
      ]
     },
     "execution_count": 6,
     "metadata": {},
     "output_type": "execute_result"
    }
   ],
   "source": [
    "remove_accented_chars('Khoa Học Dữ liệu')"
   ]
  },
  {
   "cell_type": "markdown",
   "id": "708da5b9",
   "metadata": {
    "papermill": {
     "duration": 0.015405,
     "end_time": "2024-02-19T01:49:51.440367",
     "exception": false,
     "start_time": "2024-02-19T01:49:51.424962",
     "status": "completed"
    },
    "tags": []
   },
   "source": [
    "## Replace entities"
   ]
  },
  {
   "cell_type": "code",
   "execution_count": 7,
   "id": "752fcbe2",
   "metadata": {
    "execution": {
     "iopub.execute_input": "2024-02-19T01:49:51.476914Z",
     "iopub.status.busy": "2024-02-19T01:49:51.476414Z",
     "iopub.status.idle": "2024-02-19T01:50:29.810570Z",
     "shell.execute_reply": "2024-02-19T01:50:29.809006Z"
    },
    "papermill": {
     "duration": 38.35786,
     "end_time": "2024-02-19T01:50:29.814325",
     "exception": false,
     "start_time": "2024-02-19T01:49:51.456465",
     "status": "completed"
    },
    "tags": []
   },
   "outputs": [
    {
     "name": "stdout",
     "output_type": "stream",
     "text": [
      "Collecting en-core-web-lg==3.7.1\r\n",
      "  Downloading https://github.com/explosion/spacy-models/releases/download/en_core_web_lg-3.7.1/en_core_web_lg-3.7.1-py3-none-any.whl (587.7 MB)\r\n",
      "\u001b[2K     \u001b[90m━━━━━━━━━━━━━━━━━━━━━━━━━━━━━━━━━━━━━━━\u001b[0m \u001b[32m587.7/587.7 MB\u001b[0m \u001b[31m1.6 MB/s\u001b[0m eta \u001b[36m0:00:00\u001b[0m\r\n",
      "\u001b[?25hRequirement already satisfied: spacy<3.8.0,>=3.7.2 in /opt/conda/lib/python3.10/site-packages (from en-core-web-lg==3.7.1) (3.7.2)\r\n",
      "Requirement already satisfied: spacy-legacy<3.1.0,>=3.0.11 in /opt/conda/lib/python3.10/site-packages (from spacy<3.8.0,>=3.7.2->en-core-web-lg==3.7.1) (3.0.12)\r\n",
      "Requirement already satisfied: spacy-loggers<2.0.0,>=1.0.0 in /opt/conda/lib/python3.10/site-packages (from spacy<3.8.0,>=3.7.2->en-core-web-lg==3.7.1) (1.0.5)\r\n",
      "Requirement already satisfied: murmurhash<1.1.0,>=0.28.0 in /opt/conda/lib/python3.10/site-packages (from spacy<3.8.0,>=3.7.2->en-core-web-lg==3.7.1) (1.0.10)\r\n",
      "Requirement already satisfied: cymem<2.1.0,>=2.0.2 in /opt/conda/lib/python3.10/site-packages (from spacy<3.8.0,>=3.7.2->en-core-web-lg==3.7.1) (2.0.8)\r\n",
      "Requirement already satisfied: preshed<3.1.0,>=3.0.2 in /opt/conda/lib/python3.10/site-packages (from spacy<3.8.0,>=3.7.2->en-core-web-lg==3.7.1) (3.0.9)\r\n",
      "Requirement already satisfied: thinc<8.3.0,>=8.1.8 in /opt/conda/lib/python3.10/site-packages (from spacy<3.8.0,>=3.7.2->en-core-web-lg==3.7.1) (8.2.2)\r\n",
      "Requirement already satisfied: wasabi<1.2.0,>=0.9.1 in /opt/conda/lib/python3.10/site-packages (from spacy<3.8.0,>=3.7.2->en-core-web-lg==3.7.1) (1.1.2)\r\n",
      "Requirement already satisfied: srsly<3.0.0,>=2.4.3 in /opt/conda/lib/python3.10/site-packages (from spacy<3.8.0,>=3.7.2->en-core-web-lg==3.7.1) (2.4.8)\r\n",
      "Requirement already satisfied: catalogue<2.1.0,>=2.0.6 in /opt/conda/lib/python3.10/site-packages (from spacy<3.8.0,>=3.7.2->en-core-web-lg==3.7.1) (2.0.10)\r\n",
      "Requirement already satisfied: weasel<0.4.0,>=0.1.0 in /opt/conda/lib/python3.10/site-packages (from spacy<3.8.0,>=3.7.2->en-core-web-lg==3.7.1) (0.3.4)\r\n",
      "Requirement already satisfied: typer<0.10.0,>=0.3.0 in /opt/conda/lib/python3.10/site-packages (from spacy<3.8.0,>=3.7.2->en-core-web-lg==3.7.1) (0.9.0)\r\n",
      "Requirement already satisfied: smart-open<7.0.0,>=5.2.1 in /opt/conda/lib/python3.10/site-packages (from spacy<3.8.0,>=3.7.2->en-core-web-lg==3.7.1) (6.3.0)\r\n",
      "Requirement already satisfied: tqdm<5.0.0,>=4.38.0 in /opt/conda/lib/python3.10/site-packages (from spacy<3.8.0,>=3.7.2->en-core-web-lg==3.7.1) (4.66.1)\r\n",
      "Requirement already satisfied: requests<3.0.0,>=2.13.0 in /opt/conda/lib/python3.10/site-packages (from spacy<3.8.0,>=3.7.2->en-core-web-lg==3.7.1) (2.31.0)\r\n",
      "Requirement already satisfied: pydantic!=1.8,!=1.8.1,<3.0.0,>=1.7.4 in /opt/conda/lib/python3.10/site-packages (from spacy<3.8.0,>=3.7.2->en-core-web-lg==3.7.1) (1.10.12)\r\n",
      "Requirement already satisfied: jinja2 in /opt/conda/lib/python3.10/site-packages (from spacy<3.8.0,>=3.7.2->en-core-web-lg==3.7.1) (3.1.2)\r\n",
      "Requirement already satisfied: setuptools in /opt/conda/lib/python3.10/site-packages (from spacy<3.8.0,>=3.7.2->en-core-web-lg==3.7.1) (68.1.2)\r\n",
      "Requirement already satisfied: packaging>=20.0 in /opt/conda/lib/python3.10/site-packages (from spacy<3.8.0,>=3.7.2->en-core-web-lg==3.7.1) (21.3)\r\n",
      "Requirement already satisfied: langcodes<4.0.0,>=3.2.0 in /opt/conda/lib/python3.10/site-packages (from spacy<3.8.0,>=3.7.2->en-core-web-lg==3.7.1) (3.3.0)\r\n",
      "Requirement already satisfied: numpy>=1.19.0 in /opt/conda/lib/python3.10/site-packages (from spacy<3.8.0,>=3.7.2->en-core-web-lg==3.7.1) (1.24.3)\r\n",
      "Requirement already satisfied: pyparsing!=3.0.5,>=2.0.2 in /opt/conda/lib/python3.10/site-packages (from packaging>=20.0->spacy<3.8.0,>=3.7.2->en-core-web-lg==3.7.1) (3.0.9)\r\n",
      "Requirement already satisfied: typing-extensions>=4.2.0 in /opt/conda/lib/python3.10/site-packages (from pydantic!=1.8,!=1.8.1,<3.0.0,>=1.7.4->spacy<3.8.0,>=3.7.2->en-core-web-lg==3.7.1) (4.5.0)\r\n",
      "Requirement already satisfied: charset-normalizer<4,>=2 in /opt/conda/lib/python3.10/site-packages (from requests<3.0.0,>=2.13.0->spacy<3.8.0,>=3.7.2->en-core-web-lg==3.7.1) (3.2.0)\r\n",
      "Requirement already satisfied: idna<4,>=2.5 in /opt/conda/lib/python3.10/site-packages (from requests<3.0.0,>=2.13.0->spacy<3.8.0,>=3.7.2->en-core-web-lg==3.7.1) (3.4)\r\n",
      "Requirement already satisfied: urllib3<3,>=1.21.1 in /opt/conda/lib/python3.10/site-packages (from requests<3.0.0,>=2.13.0->spacy<3.8.0,>=3.7.2->en-core-web-lg==3.7.1) (1.26.15)\r\n",
      "Requirement already satisfied: certifi>=2017.4.17 in /opt/conda/lib/python3.10/site-packages (from requests<3.0.0,>=2.13.0->spacy<3.8.0,>=3.7.2->en-core-web-lg==3.7.1) (2023.11.17)\r\n",
      "Requirement already satisfied: blis<0.8.0,>=0.7.8 in /opt/conda/lib/python3.10/site-packages (from thinc<8.3.0,>=8.1.8->spacy<3.8.0,>=3.7.2->en-core-web-lg==3.7.1) (0.7.11)\r\n",
      "Requirement already satisfied: confection<1.0.0,>=0.0.1 in /opt/conda/lib/python3.10/site-packages (from thinc<8.3.0,>=8.1.8->spacy<3.8.0,>=3.7.2->en-core-web-lg==3.7.1) (0.1.4)\r\n",
      "Requirement already satisfied: click<9.0.0,>=7.1.1 in /opt/conda/lib/python3.10/site-packages (from typer<0.10.0,>=0.3.0->spacy<3.8.0,>=3.7.2->en-core-web-lg==3.7.1) (8.1.7)\r\n",
      "Requirement already satisfied: cloudpathlib<0.17.0,>=0.7.0 in /opt/conda/lib/python3.10/site-packages (from weasel<0.4.0,>=0.1.0->spacy<3.8.0,>=3.7.2->en-core-web-lg==3.7.1) (0.16.0)\r\n",
      "Requirement already satisfied: MarkupSafe>=2.0 in /opt/conda/lib/python3.10/site-packages (from jinja2->spacy<3.8.0,>=3.7.2->en-core-web-lg==3.7.1) (2.1.3)\r\n",
      "\u001b[38;5;2m✔ Download and installation successful\u001b[0m\r\n",
      "You can now load the package via spacy.load('en_core_web_lg')\r\n"
     ]
    }
   ],
   "source": [
    "!python -m spacy download en_core_web_lg"
   ]
  },
  {
   "cell_type": "code",
   "execution_count": 8,
   "id": "85f95be1",
   "metadata": {
    "execution": {
     "iopub.execute_input": "2024-02-19T01:50:29.893960Z",
     "iopub.status.busy": "2024-02-19T01:50:29.893420Z",
     "iopub.status.idle": "2024-02-19T02:29:33.157012Z",
     "shell.execute_reply": "2024-02-19T02:29:33.155313Z"
    },
    "papermill": {
     "duration": 2343.305164,
     "end_time": "2024-02-19T02:29:33.160164",
     "exception": false,
     "start_time": "2024-02-19T01:50:29.855000",
     "status": "completed"
    },
    "tags": []
   },
   "outputs": [
    {
     "name": "stderr",
     "output_type": "stream",
     "text": [
      "100%|██████████| 57932/57932 [38:54<00:00, 24.82it/s]\n"
     ]
    }
   ],
   "source": [
    "# GPE: Geopolitical Entity\n",
    "import spacy\n",
    "from tqdm import tqdm\n",
    "tqdm.pandas()\n",
    "\n",
    "nlp = spacy.load(\"en_core_web_lg\")\n",
    "\n",
    "def replace_entities_with_keywords(text):\n",
    "    doc = nlp(text)\n",
    "    entity_types = [\"TIME\", \"DATE\", \"QUANTITY\", \"MONEY\", \"FLIGHT_CODE\", \"AIRLINE\", \n",
    "                    \"AIRCRAFT\", \"GPE\", \"LANGUAGE\", \"AIRPORT\", \"CITY\"]\n",
    "\n",
    "    replaced_text = []\n",
    "\n",
    "    for token in doc:\n",
    "        if token.ent_type_ in entity_types:\n",
    "            replaced_text.append('_' + token.ent_type_.lower() + '_')\n",
    "        else:\n",
    "            replaced_text.append(token.text)\n",
    "\n",
    "    return ' '.join(replaced_text)\n",
    "    \n",
    "\n",
    "text['Review'] = text['Review'].progress_apply(replace_entities_with_keywords)"
   ]
  },
  {
   "cell_type": "code",
   "execution_count": 9,
   "id": "f7877b7d",
   "metadata": {
    "execution": {
     "iopub.execute_input": "2024-02-19T02:29:36.623021Z",
     "iopub.status.busy": "2024-02-19T02:29:36.621320Z",
     "iopub.status.idle": "2024-02-19T02:30:32.926899Z",
     "shell.execute_reply": "2024-02-19T02:30:32.925680Z"
    },
    "papermill": {
     "duration": 58.115141,
     "end_time": "2024-02-19T02:30:32.929888",
     "exception": false,
     "start_time": "2024-02-19T02:29:34.814747",
     "status": "completed"
    },
    "tags": []
   },
   "outputs": [],
   "source": [
    "entity_types = [\"TIME\", \"DATE\", \"QUANTITY\", \"MONEY\", \"FLIGHT_CODE\", \"AIRLINE\", \n",
    "                \"AIRCRAFT\", \"GPE\", \"LANGUAGE\", \"AIRPORT\", \"CITY\"]\n",
    "for t in entity_types:\n",
    "    t_re = r'(?:_' + t.lower() + '_\\s){2}'\n",
    "    t = '_' + t.lower() + '_ '\n",
    "    text['Review'] = text['Review'].str.replace(t_re, t, regex=True)"
   ]
  },
  {
   "cell_type": "code",
   "execution_count": 10,
   "id": "080aa75c",
   "metadata": {
    "execution": {
     "iopub.execute_input": "2024-02-19T02:30:36.499942Z",
     "iopub.status.busy": "2024-02-19T02:30:36.499116Z",
     "iopub.status.idle": "2024-02-19T02:30:36.624836Z",
     "shell.execute_reply": "2024-02-19T02:30:36.623313Z"
    },
    "papermill": {
     "duration": 1.933266,
     "end_time": "2024-02-19T02:30:36.628378",
     "exception": false,
     "start_time": "2024-02-19T02:30:34.695112",
     "status": "completed"
    },
    "tags": []
   },
   "outputs": [],
   "source": [
    "import pickle\n",
    "\n",
    "with open('/kaggle/working/review_replace_ent.pkl', 'wb') as f:\n",
    "    pickle.dump(list(text['Review']), f)"
   ]
  },
  {
   "cell_type": "markdown",
   "id": "e9a72957",
   "metadata": {
    "_cell_guid": "8d1a8967-a9cf-4583-a1a5-a154c00faebd",
    "_uuid": "297306e6-1ece-403c-973a-65dc6003cf0b",
    "execution": {
     "iopub.execute_input": "2024-01-23T08:44:27.872539Z",
     "iopub.status.busy": "2024-01-23T08:44:27.872178Z",
     "iopub.status.idle": "2024-01-23T08:44:27.912704Z",
     "shell.execute_reply": "2024-01-23T08:44:27.911380Z",
     "shell.execute_reply.started": "2024-01-23T08:44:27.872511Z"
    },
    "papermill": {
     "duration": 1.704386,
     "end_time": "2024-02-19T02:30:39.953363",
     "exception": false,
     "start_time": "2024-02-19T02:30:38.248977",
     "status": "completed"
    },
    "tags": []
   },
   "source": [
    "## 1. Remove punctuation and Icon"
   ]
  },
  {
   "cell_type": "code",
   "execution_count": 11,
   "id": "525cf99d",
   "metadata": {
    "execution": {
     "iopub.execute_input": "2024-02-19T02:30:43.366364Z",
     "iopub.status.busy": "2024-02-19T02:30:43.365162Z",
     "iopub.status.idle": "2024-02-19T02:30:43.412139Z",
     "shell.execute_reply": "2024-02-19T02:30:43.411026Z"
    },
    "papermill": {
     "duration": 1.822542,
     "end_time": "2024-02-19T02:30:43.415217",
     "exception": false,
     "start_time": "2024-02-19T02:30:41.592675",
     "status": "completed"
    },
    "tags": []
   },
   "outputs": [],
   "source": [
    "import re\n",
    "\n",
    "def decontracted(phrase):\n",
    "    if isinstance(phrase, str):\n",
    "        # specific\n",
    "        phrase = re.sub(r\"shan[' ]?t(?:\\W|$)\", \"shall not\", phrase)\n",
    "        phrase = re.sub(r\"won[' ]?t(?:\\W|$)\", \"will not\", phrase)\n",
    "        phrase = re.sub(r\"can[' ]?t(?:\\W|$)\", \"can not\", phrase)\n",
    "        phrase = re.sub(r\"would\", \"will\", phrase)\n",
    "        phrase = re.sub(r\"could\", \"can\", phrase)\n",
    "        \n",
    "        lst = [r'do', r'did', r'is', r'are', r'am', r'must', r'should',\n",
    "               r'may', r'does', r'has', r'have']\n",
    "        \n",
    "        for case in lst:\n",
    "            phrase = re.sub(case + r\"n[' ]?t(?:\\W|$)\", case + \" not\", phrase)\n",
    "        \n",
    "        # general\n",
    "        phrase = re.sub(r\" nt(?:\\W|$)\", \" not \", phrase)\n",
    "        phrase = re.sub(r\"[\\s']re(?:\\W|$)\", \" are \", phrase)\n",
    "        phrase = re.sub(r\"[\\s']s(?:\\W|$)\", \" is \", phrase)\n",
    "        phrase = re.sub(r\"[\\s']d(?:\\W|$)\", \" would \", phrase)\n",
    "        phrase = re.sub(r\"[\\s']ll(?:\\W|$)\", \" will \", phrase)\n",
    "        phrase = re.sub(r\"[\\s']ve(?:\\W|$)\", \" have \", phrase)\n",
    "        phrase = re.sub(r\"[\\s']m(?:\\W|$)\", \" am \", phrase)\n",
    "        return phrase"
   ]
  },
  {
   "cell_type": "code",
   "execution_count": 12,
   "id": "a0f68ccf",
   "metadata": {
    "_cell_guid": "4bd3a9e8-2e5f-41f7-b65e-45e174b9ebed",
    "_uuid": "4583e161-a43f-48b3-a737-519693f4458c",
    "collapsed": false,
    "execution": {
     "iopub.execute_input": "2024-02-19T02:30:46.842407Z",
     "iopub.status.busy": "2024-02-19T02:30:46.841356Z",
     "iopub.status.idle": "2024-02-19T02:30:46.849888Z",
     "shell.execute_reply": "2024-02-19T02:30:46.848702Z"
    },
    "jupyter": {
     "outputs_hidden": false
    },
    "papermill": {
     "duration": 1.713036,
     "end_time": "2024-02-19T02:30:46.852726",
     "exception": false,
     "start_time": "2024-02-19T02:30:45.139690",
     "status": "completed"
    },
    "tags": []
   },
   "outputs": [],
   "source": [
    "def remove_punctuation(text):\n",
    "    text = text.str.lower()\n",
    "#     text = text.str.replace(r'_', ' ', regex=True)\n",
    "    text = text.str.replace(r'\\W', ' ', regex=True)\n",
    "    text = text.str.replace(r'\\d', ' ', regex=True)\n",
    "    text = text.str.replace(r'\\s+', ' ', regex=True)\n",
    "    text = text.str.strip()\n",
    "    text = text.str.findall(r'(?:\\w+? ?verified )?(.*)').str[0]\n",
    "    text = text.str.findall(r'(?:verified review )?(.*)').str[0]\n",
    "    return text"
   ]
  },
  {
   "cell_type": "code",
   "execution_count": 13,
   "id": "93f04cc4",
   "metadata": {
    "_cell_guid": "0e401219-bcce-460b-8534-cf4923400e23",
    "_uuid": "375aaf00-ceab-4c60-b5e9-2c015967b5c8",
    "collapsed": false,
    "execution": {
     "iopub.execute_input": "2024-02-19T02:30:50.449403Z",
     "iopub.status.busy": "2024-02-19T02:30:50.448587Z",
     "iopub.status.idle": "2024-02-19T02:31:20.245891Z",
     "shell.execute_reply": "2024-02-19T02:31:20.244655Z"
    },
    "jupyter": {
     "outputs_hidden": false
    },
    "papermill": {
     "duration": 31.582121,
     "end_time": "2024-02-19T02:31:20.249235",
     "exception": false,
     "start_time": "2024-02-19T02:30:48.667114",
     "status": "completed"
    },
    "tags": []
   },
   "outputs": [],
   "source": [
    "text['Review'] = text['Review'].apply(decontracted)\n",
    "text['Review'] = remove_punctuation(text['Review'])"
   ]
  },
  {
   "cell_type": "code",
   "execution_count": 14,
   "id": "5cbeb525",
   "metadata": {
    "execution": {
     "iopub.execute_input": "2024-02-19T02:31:23.630337Z",
     "iopub.status.busy": "2024-02-19T02:31:23.629487Z",
     "iopub.status.idle": "2024-02-19T02:31:23.640534Z",
     "shell.execute_reply": "2024-02-19T02:31:23.639254Z"
    },
    "papermill": {
     "duration": 1.722254,
     "end_time": "2024-02-19T02:31:23.643233",
     "exception": false,
     "start_time": "2024-02-19T02:31:21.920979",
     "status": "completed"
    },
    "tags": []
   },
   "outputs": [
    {
     "data": {
      "text/plain": [
       "0     i bought roundtrip and return tickets from _gp...\n",
       "1     i am shocked at how far aeroflot standards hav...\n",
       "2     aeroflot has set high standards of achieving a...\n",
       "3     best airline in _gpe_ very nice staff comforta...\n",
       "4     i was very impressed with the staff many thank...\n",
       "5     i missed my flight due to a confusion with the...\n",
       "6     flight quite uneventful although the hard prod...\n",
       "7     positives convenient booking via mobile app ve...\n",
       "8     aeroflot has a good planes and good pilots but...\n",
       "9     the premium economy service was entirely satis...\n",
       "10    horrible experience at sheremetyevo airport hu...\n",
       "11    london to _gpe_ on brand new a i must say i ha...\n",
       "12    _gpe_ to _gpe_ on aeroflot b i always wanted t...\n",
       "13    _gpe_ to _gpe_ via _gpe_ in _date_ was a night...\n",
       "14    _gpe_ to _gpe_ i really liked the service clea...\n",
       "15    _gpe_ to _gpe_ a new a plane with business cla...\n",
       "16    _gpe_ to _gpe_ via _gpe_ i paid _money_ for up...\n",
       "17    _gpe_ to _gpe_ business class was very outdate...\n",
       "18    _gpe_ to _gpe_ a economy seats of a new type v...\n",
       "19    _gpe_ to _gpe_ via _gpe_ fantastic customer se...\n",
       "20    _gpe_ to _gpe_ my first time ever with aeroflo...\n",
       "21    ljubljana to _gpe_ both flights on time cabin ...\n",
       "22    _gpe_ to _gpe_ via _gpe_ i will like to take t...\n",
       "23    _gpe_ to _gpe_ via _gpe_ the crew on board wer...\n",
       "24    _gpe_ to _gpe_ via _gpe_ the major reason behi...\n",
       "25    _gpe_ to _gpe_ via _gpe_ the airline staff wei...\n",
       "26    _gpe_ to _gpe_ rude customer service to me and...\n",
       "27    _gpe_ to _gpe_ on su they are scheduled a flig...\n",
       "28    _gpe_ to _gpe_ i ordered diabetic meal which w...\n",
       "29    _gpe_ to _gpe_ via _gpe_ experience on board t...\n",
       "30    _gpe_ to _gpe_ with aeroflot relatively good f...\n",
       "31    _gpe_ to _gpe_ return standard in economy clas...\n",
       "32    _gpe_ to _gpe_ via _gpe_ economy class _date_ ...\n",
       "33    aeroflot has two faces when things run smoothl...\n",
       "34    warsaw to _gpe_ with aeroflot there were no pr...\n",
       "35    i was flying from _gpe_ to _gpe_ via _gpe_ the...\n",
       "36    _gpe_ to _gpe_ via _gpe_ i was delayed due to ...\n",
       "37    _gpe_ to _gpe_ terrible service on arrival to ...\n",
       "38    flight from _gpe_ svo to paris cdg _time_ _tim...\n",
       "39    _gpe_ to nursultan return via _gpe_ review cov...\n",
       "40    flew _gpe_ to _gpe_ via _gpe_ the flight was s...\n",
       "41    _gpe_ to _gpe_ very pleased with this airline ...\n",
       "42    _gpe_ to _gpe_ via _gpe_ i had a booking that ...\n",
       "43    _gpe_ to _gpe_ via _gpe_ it was the first rout...\n",
       "44    _gpe_ to _gpe_ i flew abroad with many foreign...\n",
       "45    _gpe_ to _gpe_ very pleasant surprise one of t...\n",
       "46    _gpe_ to _gpe_ i paid extra for seats before o...\n",
       "47    kazan to _gpe_ via _gpe_ the flight departed a...\n",
       "48    another aeroflot flight another pleasant surpr...\n",
       "49    lisbon to _gpe_ i was excited to try aeroflot ...\n",
       "Name: Review, dtype: object"
      ]
     },
     "execution_count": 14,
     "metadata": {},
     "output_type": "execute_result"
    }
   ],
   "source": [
    "i = 0\n",
    "text['Review'][i:i+50]"
   ]
  },
  {
   "cell_type": "markdown",
   "id": "97e5f063",
   "metadata": {
    "_cell_guid": "c31a5ff0-7874-4913-9a23-7f72d9db98dc",
    "_uuid": "324e1314-93ba-403d-a449-e82b54d8a7a4",
    "papermill": {
     "duration": 1.747434,
     "end_time": "2024-02-19T02:31:27.002602",
     "exception": false,
     "start_time": "2024-02-19T02:31:25.255168",
     "status": "completed"
    },
    "tags": []
   },
   "source": [
    "## 2. Tokenize"
   ]
  },
  {
   "cell_type": "code",
   "execution_count": 15,
   "id": "af4e936f",
   "metadata": {
    "_cell_guid": "a140aec1-8d44-4f72-974b-a164d321a4c2",
    "_uuid": "f12cccf7-9364-4b6b-b221-a39c671f9f45",
    "collapsed": false,
    "execution": {
     "iopub.execute_input": "2024-02-19T02:31:30.442993Z",
     "iopub.status.busy": "2024-02-19T02:31:30.442550Z",
     "iopub.status.idle": "2024-02-19T02:32:49.851765Z",
     "shell.execute_reply": "2024-02-19T02:32:49.850578Z"
    },
    "jupyter": {
     "outputs_hidden": false
    },
    "papermill": {
     "duration": 81.09882,
     "end_time": "2024-02-19T02:32:49.855208",
     "exception": false,
     "start_time": "2024-02-19T02:31:28.756388",
     "status": "completed"
    },
    "tags": []
   },
   "outputs": [],
   "source": [
    "nltk_tokens_word  = text['Review'].apply(lambda x: nltk.word_tokenize(x))"
   ]
  },
  {
   "cell_type": "code",
   "execution_count": 16,
   "id": "f3718d53",
   "metadata": {
    "_cell_guid": "83f719da-fefd-47d5-b747-cb6cbfdbd253",
    "_uuid": "dfe0bef8-1da1-41f4-bfd6-c04cb91402f6",
    "collapsed": false,
    "execution": {
     "iopub.execute_input": "2024-02-19T02:32:53.351260Z",
     "iopub.status.busy": "2024-02-19T02:32:53.350748Z",
     "iopub.status.idle": "2024-02-19T02:32:53.366078Z",
     "shell.execute_reply": "2024-02-19T02:32:53.364811Z"
    },
    "jupyter": {
     "outputs_hidden": false
    },
    "papermill": {
     "duration": 1.89144,
     "end_time": "2024-02-19T02:32:53.369013",
     "exception": false,
     "start_time": "2024-02-19T02:32:51.477573",
     "status": "completed"
    },
    "tags": []
   },
   "outputs": [
    {
     "name": "stdout",
     "output_type": "stream",
     "text": [
      "0        [i, bought, roundtrip, and, return, tickets, f...\n",
      "1        [i, am, shocked, at, how, far, aeroflot, stand...\n",
      "2        [aeroflot, has, set, high, standards, of, achi...\n",
      "3        [best, airline, in, _gpe_, very, nice, staff, ...\n",
      "4        [i, was, very, impressed, with, the, staff, ma...\n",
      "                               ...                        \n",
      "57927    [had, a, terrible, experience, at, check, in, ...\n",
      "57928    [one, of, the, better, low, cost, airlines, bu...\n",
      "57929    [rynair, is, a, luxury, comparing, to, wizz, a...\n",
      "57930    [we, went, to, ciampino, airport, _time_, earl...\n",
      "57931    [wizz, air, is, hands, down, the, worst, airli...\n",
      "Name: Review, Length: 57932, dtype: object\n"
     ]
    }
   ],
   "source": [
    "print(nltk_tokens_word)"
   ]
  },
  {
   "cell_type": "markdown",
   "id": "40d75b1f",
   "metadata": {
    "_cell_guid": "d3c11a61-23ca-433f-9160-b9e51dff3613",
    "_uuid": "6da9aa0b-a128-4c35-8e30-1af04e7af1eb",
    "execution": {
     "iopub.execute_input": "2024-01-23T08:58:23.214633Z",
     "iopub.status.busy": "2024-01-23T08:58:23.214248Z",
     "iopub.status.idle": "2024-01-23T08:58:23.225871Z",
     "shell.execute_reply": "2024-01-23T08:58:23.224079Z",
     "shell.execute_reply.started": "2024-01-23T08:58:23.214603Z"
    },
    "papermill": {
     "duration": 1.806245,
     "end_time": "2024-02-19T02:32:56.813591",
     "exception": false,
     "start_time": "2024-02-19T02:32:55.007346",
     "status": "completed"
    },
    "tags": []
   },
   "source": [
    "## 3. Remove stopwords"
   ]
  },
  {
   "cell_type": "code",
   "execution_count": 17,
   "id": "608a2477",
   "metadata": {
    "_cell_guid": "c5d026aa-bd2c-4ee9-92ea-a7142eb6d424",
    "_uuid": "c4c17204-e823-492a-ac3a-7a7f1959be50",
    "collapsed": false,
    "execution": {
     "iopub.execute_input": "2024-02-19T02:33:00.295250Z",
     "iopub.status.busy": "2024-02-19T02:33:00.294386Z",
     "iopub.status.idle": "2024-02-19T02:33:00.310832Z",
     "shell.execute_reply": "2024-02-19T02:33:00.309546Z"
    },
    "jupyter": {
     "outputs_hidden": false
    },
    "papermill": {
     "duration": 1.700431,
     "end_time": "2024-02-19T02:33:00.313897",
     "exception": false,
     "start_time": "2024-02-19T02:32:58.613466",
     "status": "completed"
    },
    "tags": []
   },
   "outputs": [],
   "source": [
    "stop_words = set(stopwords.words('english')) \n",
    "def remove_stop_words(token_words):\n",
    "    filtered_words = [word for word in token_words if word not in stop_words]\n",
    "    return filtered_words"
   ]
  },
  {
   "cell_type": "code",
   "execution_count": 18,
   "id": "356b2351",
   "metadata": {
    "_cell_guid": "d4c81628-9806-48f0-8070-6811fa254183",
    "_uuid": "e265d285-1999-4814-9a01-df730675e133",
    "collapsed": false,
    "execution": {
     "iopub.execute_input": "2024-02-19T02:33:03.882892Z",
     "iopub.status.busy": "2024-02-19T02:33:03.881666Z",
     "iopub.status.idle": "2024-02-19T02:33:05.276180Z",
     "shell.execute_reply": "2024-02-19T02:33:05.274927Z"
    },
    "jupyter": {
     "outputs_hidden": false
    },
    "papermill": {
     "duration": 3.1633,
     "end_time": "2024-02-19T02:33:05.279368",
     "exception": false,
     "start_time": "2024-02-19T02:33:02.116068",
     "status": "completed"
    },
    "tags": []
   },
   "outputs": [],
   "source": [
    "filter_words = nltk_tokens_word.apply(remove_stop_words)"
   ]
  },
  {
   "cell_type": "code",
   "execution_count": 19,
   "id": "aea3c94b",
   "metadata": {
    "_cell_guid": "61b6fd29-a9fd-4a66-a78d-a980d21791b7",
    "_uuid": "e020c0c6-b160-48a7-960b-024b731c9bee",
    "collapsed": false,
    "execution": {
     "iopub.execute_input": "2024-02-19T02:33:08.761633Z",
     "iopub.status.busy": "2024-02-19T02:33:08.761122Z",
     "iopub.status.idle": "2024-02-19T02:33:08.775291Z",
     "shell.execute_reply": "2024-02-19T02:33:08.773831Z"
    },
    "jupyter": {
     "outputs_hidden": false
    },
    "papermill": {
     "duration": 1.816535,
     "end_time": "2024-02-19T02:33:08.777908",
     "exception": false,
     "start_time": "2024-02-19T02:33:06.961373",
     "status": "completed"
    },
    "tags": []
   },
   "outputs": [
    {
     "name": "stdout",
     "output_type": "stream",
     "text": [
      "0        [bought, roundtrip, return, tickets, _gpe_, _g...\n",
      "1        [shocked, far, aeroflot, standards, fallen, si...\n",
      "2        [aeroflot, set, high, standards, achieving, st...\n",
      "3        [best, airline, _gpe_, nice, staff, comfortabl...\n",
      "4        [impressed, staff, many, thanks, aeroflot, rep...\n",
      "                               ...                        \n",
      "57927    [terrible, experience, check, wife, _date_, fr...\n",
      "57928    [one, better, low, cost, airlines, need, make,...\n",
      "57929    [rynair, luxury, comparing, wizz, air, charge,...\n",
      "57930    [went, ciampino, airport, _time_, early, tried...\n",
      "57931    [wizz, air, hands, worst, airline, areas, cust...\n",
      "Name: Review, Length: 57932, dtype: object\n"
     ]
    }
   ],
   "source": [
    "print(filter_words)"
   ]
  },
  {
   "cell_type": "markdown",
   "id": "be3ce299",
   "metadata": {
    "_cell_guid": "80785d20-fb89-4e08-bfd3-d378bc785de3",
    "_uuid": "96d1a397-81b0-47b8-b93c-5d8459c6da42",
    "papermill": {
     "duration": 1.613006,
     "end_time": "2024-02-19T02:33:12.158550",
     "exception": false,
     "start_time": "2024-02-19T02:33:10.545544",
     "status": "completed"
    },
    "tags": []
   },
   "source": [
    "## 4. Lemmatize"
   ]
  },
  {
   "cell_type": "code",
   "execution_count": 20,
   "id": "3e54d37d",
   "metadata": {
    "_cell_guid": "058c5cc6-0880-4b8a-85f7-4b0b67615ad9",
    "_uuid": "03272560-f3d4-41f4-a8a0-9bad96a3b016",
    "collapsed": false,
    "execution": {
     "iopub.execute_input": "2024-02-19T02:33:15.571145Z",
     "iopub.status.busy": "2024-02-19T02:33:15.570712Z",
     "iopub.status.idle": "2024-02-19T02:33:15.578207Z",
     "shell.execute_reply": "2024-02-19T02:33:15.577332Z"
    },
    "jupyter": {
     "outputs_hidden": false
    },
    "papermill": {
     "duration": 1.626397,
     "end_time": "2024-02-19T02:33:15.581653",
     "exception": false,
     "start_time": "2024-02-19T02:33:13.955256",
     "status": "completed"
    },
    "tags": []
   },
   "outputs": [],
   "source": [
    "lemmatizer = WordNetLemmatizer()\n",
    "def lemma(filtered_tokens):\n",
    "    lemmatized_tokens = []\n",
    "    lst_pos = ['a', 's', 'r', 'n', 'v']\n",
    "    for word in filtered_tokens:\n",
    "        for p in lst_pos:\n",
    "            lemma_word = lemmatizer.lemmatize(word, pos=p)\n",
    "            if lemma_word != word:\n",
    "                break\n",
    "        lemmatized_tokens.append(lemma_word)\n",
    "    return lemmatized_tokens"
   ]
  },
  {
   "cell_type": "code",
   "execution_count": 21,
   "id": "00017e76",
   "metadata": {
    "_cell_guid": "c98a9ff6-a297-4192-977d-e366c9299c97",
    "_uuid": "45dd556d-45e1-47b7-b91c-1659b774952a",
    "collapsed": false,
    "execution": {
     "iopub.execute_input": "2024-02-19T02:33:19.079772Z",
     "iopub.status.busy": "2024-02-19T02:33:19.078970Z",
     "iopub.status.idle": "2024-02-19T02:35:20.668055Z",
     "shell.execute_reply": "2024-02-19T02:35:20.666479Z"
    },
    "jupyter": {
     "outputs_hidden": false
    },
    "papermill": {
     "duration": 123.302284,
     "end_time": "2024-02-19T02:35:20.671591",
     "exception": false,
     "start_time": "2024-02-19T02:33:17.369307",
     "status": "completed"
    },
    "tags": []
   },
   "outputs": [],
   "source": [
    "lemmatized_words = filter_words.apply(lemma)"
   ]
  },
  {
   "cell_type": "code",
   "execution_count": 22,
   "id": "8905d3de",
   "metadata": {
    "execution": {
     "iopub.execute_input": "2024-02-19T02:35:24.002502Z",
     "iopub.status.busy": "2024-02-19T02:35:24.002019Z",
     "iopub.status.idle": "2024-02-19T02:35:24.278858Z",
     "shell.execute_reply": "2024-02-19T02:35:24.277452Z"
    },
    "papermill": {
     "duration": 1.972397,
     "end_time": "2024-02-19T02:35:24.282000",
     "exception": false,
     "start_time": "2024-02-19T02:35:22.309603",
     "status": "completed"
    },
    "tags": []
   },
   "outputs": [],
   "source": [
    "text['Review_cleaned'] = lemmatized_words.apply(lambda x: \" \".join(x))\n",
    "# text['Review_cleaned'] = lemmatized_words"
   ]
  },
  {
   "cell_type": "markdown",
   "id": "8f241217",
   "metadata": {
    "papermill": {
     "duration": 1.800711,
     "end_time": "2024-02-19T02:35:27.877426",
     "exception": false,
     "start_time": "2024-02-19T02:35:26.076715",
     "status": "completed"
    },
    "tags": []
   },
   "source": [
    "## 5. Tạo bigrams"
   ]
  },
  {
   "cell_type": "code",
   "execution_count": 23,
   "id": "99c19040",
   "metadata": {
    "execution": {
     "iopub.execute_input": "2024-02-19T02:35:31.375291Z",
     "iopub.status.busy": "2024-02-19T02:35:31.374825Z",
     "iopub.status.idle": "2024-02-19T02:35:57.012111Z",
     "shell.execute_reply": "2024-02-19T02:35:57.010668Z"
    },
    "papermill": {
     "duration": 27.399405,
     "end_time": "2024-02-19T02:35:57.015590",
     "exception": false,
     "start_time": "2024-02-19T02:35:29.616185",
     "status": "completed"
    },
    "tags": []
   },
   "outputs": [],
   "source": [
    "import gensim"
   ]
  },
  {
   "cell_type": "code",
   "execution_count": 24,
   "id": "17d63a94",
   "metadata": {
    "execution": {
     "iopub.execute_input": "2024-02-19T02:36:00.554258Z",
     "iopub.status.busy": "2024-02-19T02:36:00.553269Z",
     "iopub.status.idle": "2024-02-19T02:36:50.910882Z",
     "shell.execute_reply": "2024-02-19T02:36:50.909383Z"
    },
    "papermill": {
     "duration": 52.220402,
     "end_time": "2024-02-19T02:36:50.914272",
     "exception": false,
     "start_time": "2024-02-19T02:35:58.693870",
     "status": "completed"
    },
    "tags": []
   },
   "outputs": [],
   "source": [
    "bigram = gensim.models.Phrases(list(lemmatized_words), min_count=5, threshold=100) # higher threshold fewer phrases.\n",
    "trigram = gensim.models.Phrases(bigram[list(lemmatized_words)], threshold=100)  \n",
    "bigram_mod = gensim.models.phrases.Phraser(bigram)\n",
    "trigram_mod = gensim.models.phrases.Phraser(trigram)"
   ]
  },
  {
   "cell_type": "code",
   "execution_count": 25,
   "id": "03acb0a7",
   "metadata": {
    "execution": {
     "iopub.execute_input": "2024-02-19T02:36:54.311034Z",
     "iopub.status.busy": "2024-02-19T02:36:54.310557Z",
     "iopub.status.idle": "2024-02-19T02:36:54.317146Z",
     "shell.execute_reply": "2024-02-19T02:36:54.315786Z"
    },
    "papermill": {
     "duration": 1.780655,
     "end_time": "2024-02-19T02:36:54.319660",
     "exception": false,
     "start_time": "2024-02-19T02:36:52.539005",
     "status": "completed"
    },
    "tags": []
   },
   "outputs": [],
   "source": [
    "def make_bigrams(texts):\n",
    "    return [bigram_mod[doc] for doc in texts]\n",
    "\n",
    "def make_trigrams(texts):\n",
    "    return [trigram_mod[bigram_mod[doc]] for doc in texts]"
   ]
  },
  {
   "cell_type": "code",
   "execution_count": 26,
   "id": "84f5e5cc",
   "metadata": {
    "execution": {
     "iopub.execute_input": "2024-02-19T02:36:57.748629Z",
     "iopub.status.busy": "2024-02-19T02:36:57.747562Z",
     "iopub.status.idle": "2024-02-19T02:37:06.555496Z",
     "shell.execute_reply": "2024-02-19T02:37:06.554238Z"
    },
    "papermill": {
     "duration": 10.43462,
     "end_time": "2024-02-19T02:37:06.559035",
     "exception": false,
     "start_time": "2024-02-19T02:36:56.124415",
     "status": "completed"
    },
    "tags": []
   },
   "outputs": [],
   "source": [
    "text['Review_bigrams'] = make_bigrams(lemmatized_words)\n",
    "text['Review_bigrams'] = text['Review_bigrams'].apply(lambda x: \" \".join(x))"
   ]
  },
  {
   "cell_type": "code",
   "execution_count": 27,
   "id": "f4d78d8f",
   "metadata": {
    "execution": {
     "iopub.execute_input": "2024-02-19T02:37:10.175417Z",
     "iopub.status.busy": "2024-02-19T02:37:10.174472Z",
     "iopub.status.idle": "2024-02-19T02:37:35.936203Z",
     "shell.execute_reply": "2024-02-19T02:37:35.934954Z"
    },
    "papermill": {
     "duration": 27.572545,
     "end_time": "2024-02-19T02:37:35.939383",
     "exception": false,
     "start_time": "2024-02-19T02:37:08.366838",
     "status": "completed"
    },
    "tags": []
   },
   "outputs": [],
   "source": [
    "text['Review_trigrams'] = make_trigrams(make_bigrams(lemmatized_words))\n",
    "text['Review_trigrams'] = text['Review_trigrams'].apply(lambda x: \" \".join(x))"
   ]
  },
  {
   "cell_type": "code",
   "execution_count": 30,
   "id": "812d7224",
   "metadata": {
    "execution": {
     "iopub.execute_input": "2024-02-19T02:37:53.277491Z",
     "iopub.status.busy": "2024-02-19T02:37:53.276991Z",
     "iopub.status.idle": "2024-02-19T02:37:53.289527Z",
     "shell.execute_reply": "2024-02-19T02:37:53.288466Z"
    },
    "papermill": {
     "duration": 1.821224,
     "end_time": "2024-02-19T02:37:53.291855",
     "exception": false,
     "start_time": "2024-02-19T02:37:51.470631",
     "status": "completed"
    },
    "tags": []
   },
   "outputs": [
    {
     "data": {
      "text/plain": [
       "0        buy roundtrip return ticket _gpe_ _gpe_ via _g...\n",
       "1        shock far aeroflot standard fall since invade ...\n",
       "2        aeroflot set high standard achieve star airlin...\n",
       "3        best airline _gpe_ nice staff comfortable seat...\n",
       "4        impress staff many thank aeroflot representati...\n",
       "                               ...                        \n",
       "57927    terrible experience check wife _date_ frequent...\n",
       "57928    one good low cost airline need make sure organ...\n",
       "57929    rynair luxury compare wizz air charge every th...\n",
       "57930    go ciampino airport _time_ early try open wizz...\n",
       "57931    wizz air hand bad airline area customer servic...\n",
       "Name: Review_trigrams, Length: 57932, dtype: object"
      ]
     },
     "execution_count": 30,
     "metadata": {},
     "output_type": "execute_result"
    }
   ],
   "source": [
    "text['Review_trigrams']"
   ]
  }
 ],
 "metadata": {
  "kaggle": {
   "accelerator": "none",
   "dataSources": [
    {
     "datasetId": 4343215,
     "sourceId": 7644245,
     "sourceType": "datasetVersion"
    }
   ],
   "dockerImageVersionId": 30635,
   "isGpuEnabled": false,
   "isInternetEnabled": true,
   "language": "python",
   "sourceType": "notebook"
  },
  "kernelspec": {
   "display_name": "Python 3",
   "language": "python",
   "name": "python3"
  },
  "language_info": {
   "codemirror_mode": {
    "name": "ipython",
    "version": 3
   },
   "file_extension": ".py",
   "mimetype": "text/x-python",
   "name": "python",
   "nbconvert_exporter": "python",
   "pygments_lexer": "ipython3",
   "version": "3.10.12"
  },
  "papermill": {
   "default_parameters": {},
   "duration": 2915.560815,
   "end_time": "2024-02-19T02:38:15.109377",
   "environment_variables": {},
   "exception": null,
   "input_path": "__notebook__.ipynb",
   "output_path": "__notebook__.ipynb",
   "parameters": {},
   "start_time": "2024-02-19T01:49:39.548562",
   "version": "2.4.0"
  }
 },
 "nbformat": 4,
 "nbformat_minor": 5
}
