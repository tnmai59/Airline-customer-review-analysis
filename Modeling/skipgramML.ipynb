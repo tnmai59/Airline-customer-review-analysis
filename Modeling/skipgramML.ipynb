{
  "cells": [
    {
      "cell_type": "markdown",
      "metadata": {
        "id": "hepmnOLys6so"
      },
      "source": [
        "# Import libraries\n",
        "\n"
      ]
    },
    {
      "cell_type": "code",
      "execution_count": null,
      "metadata": {
        "colab": {
          "base_uri": "https://localhost:8080/"
        },
        "id": "LwO3mwXXsUMJ",
        "outputId": "190b211a-9d84-49e2-f9b5-ccc258b425a1"
      },
      "outputs": [
        {
          "name": "stderr",
          "output_type": "stream",
          "text": [
            "[nltk_data] Downloading package punkt to /root/nltk_data...\n",
            "[nltk_data]   Package punkt is already up-to-date!\n"
          ]
        },
        {
          "data": {
            "text/plain": [
              "True"
            ]
          },
          "execution_count": 31,
          "metadata": {},
          "output_type": "execute_result"
        }
      ],
      "source": [
        "from utils import *\n",
        "\n",
        "from sklearn.metrics import classification_report\n",
        "from sklearn.svm import LinearSVC\n",
        "from sklearn.linear_model import LogisticRegression\n",
        "from sklearn.ensemble import RandomForestClassifier\n",
        "from sklearn.neighbors import KNeighborsClassifier\n",
        "from sklearn.naive_bayes import GaussianNB\n",
        "from sklearn.tree import DecisionTreeClassifier\n",
        "from sklearn.ensemble import AdaBoostClassifier\n",
        "from sklearn.ensemble import GradientBoostingClassifier\n",
        "\n",
        "nltk.download('punkt')\n"
      ]
    },
    {
      "cell_type": "markdown",
      "metadata": {
        "id": "0UCZRu7EtLEu"
      },
      "source": [
        "# Loading data"
      ]
    },
    {
      "cell_type": "code",
      "execution_count": null,
      "metadata": {
        "colab": {
          "base_uri": "https://localhost:8080/",
          "height": 588
        },
        "id": "MdIxpZXwtJys",
        "outputId": "0b4852d6-0289-477e-d165-6a0950172b78"
      },
      "outputs": [
        {
          "data": {
            "application/vnd.google.colaboratory.intrinsic+json": {
              "summary": "{\n  \"name\": \"df\",\n  \"rows\": 57932,\n  \"fields\": [\n    {\n      \"column\": \"Review id\",\n      \"properties\": {\n        \"dtype\": \"string\",\n        \"num_unique_values\": 57932,\n        \"samples\": [\n          \"anchor836096\",\n          \"anchor817437\",\n          \"anchor595880\"\n        ],\n        \"semantic_type\": \"\",\n        \"description\": \"\"\n      }\n    },\n    {\n      \"column\": \"Review header\",\n      \"properties\": {\n        \"dtype\": \"string\",\n        \"num_unique_values\": 46636,\n        \"samples\": [\n          \"\\\"What used to be excellent soft product has really worsened\\\"\",\n          \"\\\"airline staff was horrible\\\"\",\n          \"\\\"Air France did not meet my expectations\\\"\"\n        ],\n        \"semantic_type\": \"\",\n        \"description\": \"\"\n      }\n    },\n    {\n      \"column\": \"Review\",\n      \"properties\": {\n        \"dtype\": \"string\",\n        \"num_unique_values\": 57918,\n        \"samples\": [\n          \"worst experience of my life the pilot was taking her time after boarding all the instructions had already been explained and they sat there for _time_ _time_ after instructions were instructed so i got up to use restroom it was an emergency the flight attendant had the nerve to block the bathroom and tell me to sit back down i said that it was an emergancy and they kicked my family off the flight this is unbelievable and unfair and we are stuck without a flight back home i am not okay with this\",\n          \"_gpe_ to _gpe_ seats are slightly better compared to airaasia however priority privilege such as board me first was not given after purchasing flight experience was acceptable for low cost carrier flights\",\n          \"_gpe_ to _gpe_ with frontier airlines given all the extremely negative reviews i felt the need to share my experience frontier is a discount airline there are no hidden fees they beat you over the head with all of their fees book your bags now for _money_ if you book at airport it will be _money_ how people are surprised by this i do not know you can easily log into their website calculate the seat fees luggage fees etc and then compare to other airlines the plane was nice i was shocked plane took off on time and landed early yay so based on this one flight i will give them a i will use them again if i ever needed to travel for cheap and was n t on a strict timeline\"\n        ],\n        \"semantic_type\": \"\",\n        \"description\": \"\"\n      }\n    },\n    {\n      \"column\": \"Recommended\",\n      \"properties\": {\n        \"dtype\": \"category\",\n        \"num_unique_values\": 2,\n        \"samples\": [\n          \"yes\",\n          \"no\"\n        ],\n        \"semantic_type\": \"\",\n        \"description\": \"\"\n      }\n    },\n    {\n      \"column\": \"Review_cleaned\",\n      \"properties\": {\n        \"dtype\": \"string\",\n        \"num_unique_values\": 57916,\n        \"samples\": [\n          \"_gpe_ _gpe_ _gpe_ b look bite tire compare b er seat pitch seem tight entertainment screen crack fully respond headset awful seem increase engine noise necessitate deafen volume hear anything screen seat cushion bite lack pad wine arrive early climb _time_ _time_ experience severe turbulence spite regular call seat belt fasten even crew return seat lengthy period service somehow maintain dinner time king prawn rice green sweet chile sauce good often business class approach _gpe_ equally bumpy finish excellent smooth land _time_ _time_ compliment purser staff performance invite area rear repeat comment want hear compliment give couple drambuie take home souvenir good way fly economy although try get b er possibly bring noise cancel headset\",\n          \"bad airline ever travel start use _date_ _date_ try airline like southwest jetblue delta always delay rude staff overprice cancel ticket _time_ book overcharge everything never book bye bye unite ever\"\n        ],\n        \"semantic_type\": \"\",\n        \"description\": \"\"\n      }\n    },\n    {\n      \"column\": \"Review_bigrams\",\n      \"properties\": {\n        \"dtype\": \"string\",\n        \"num_unique_values\": 57916,\n        \"samples\": [\n          \"_gpe_ _gpe_ _gpe_ b look bite tire compare b_er seat pitch seem tight entertainment screen crack fully respond headset awful seem increase engine noise necessitate deafen volume hear anything screen seat cushion bite lack pad wine arrive early climb _time_ _time_ experience severe turbulence spite regular call seat belt fasten even crew return seat lengthy period service somehow maintain dinner time king prawn rice green sweet chile sauce good often business class approach _gpe_ equally bumpy finish excellent smooth land _time_ _time_ compliment purser staff performance invite area rear repeat comment want hear compliment give couple drambuie take home souvenir good way fly economy although try get b_er possibly bring noise cancel headset\",\n          \"bad airline ever travel start use _date_ _date_ try airline like southwest jetblue delta always delay rude staff overprice cancel ticket _time_ book overcharge everything never book bye_bye unite ever\"\n        ],\n        \"semantic_type\": \"\",\n        \"description\": \"\"\n      }\n    },\n    {\n      \"column\": \"Review_trigrams\",\n      \"properties\": {\n        \"dtype\": \"string\",\n        \"num_unique_values\": 57916,\n        \"samples\": [\n          \"_gpe_ _gpe_ _gpe_ b look bite tire compare b_er seat pitch seem tight entertainment screen crack fully respond headset awful seem increase engine noise necessitate deafen volume hear anything screen seat cushion bite lack pad wine arrive early climb _time_ _time_ experience severe_turbulence spite regular call seat belt fasten even crew return seat lengthy period service somehow maintain dinner time king prawn rice green sweet chile sauce good often business class approach _gpe_ equally bumpy finish excellent smooth land _time_ _time_ compliment purser staff performance invite area rear repeat comment want hear compliment give couple drambuie take home souvenir good way fly economy although try get b_er possibly bring noise cancel headset\",\n          \"bad airline ever travel start use _date_ _date_ try airline like southwest jetblue delta always delay rude staff overprice cancel ticket _time_ book overcharge everything never book bye_bye unite ever\"\n        ],\n        \"semantic_type\": \"\",\n        \"description\": \"\"\n      }\n    }\n  ]\n}",
              "type": "dataframe",
              "variable_name": "df"
            },
            "text/html": [
              "\n",
              "  <div id=\"df-87fe35a2-b5cb-4dba-906f-766665be4b3e\" class=\"colab-df-container\">\n",
              "    <div>\n",
              "<style scoped>\n",
              "    .dataframe tbody tr th:only-of-type {\n",
              "        vertical-align: middle;\n",
              "    }\n",
              "\n",
              "    .dataframe tbody tr th {\n",
              "        vertical-align: top;\n",
              "    }\n",
              "\n",
              "    .dataframe thead th {\n",
              "        text-align: right;\n",
              "    }\n",
              "</style>\n",
              "<table border=\"1\" class=\"dataframe\">\n",
              "  <thead>\n",
              "    <tr style=\"text-align: right;\">\n",
              "      <th></th>\n",
              "      <th>Review id</th>\n",
              "      <th>Review header</th>\n",
              "      <th>Review</th>\n",
              "      <th>Recommended</th>\n",
              "      <th>Review_cleaned</th>\n",
              "      <th>Review_bigrams</th>\n",
              "      <th>Review_trigrams</th>\n",
              "    </tr>\n",
              "  </thead>\n",
              "  <tbody>\n",
              "    <tr>\n",
              "      <th>0</th>\n",
              "      <td>anchor885571</td>\n",
              "      <td>\"very terrible experience\"</td>\n",
              "      <td>i bought roundtrip and return tickets from _gp...</td>\n",
              "      <td>no</td>\n",
              "      <td>buy roundtrip return ticket _gpe_ _gpe_ via _g...</td>\n",
              "      <td>buy roundtrip return ticket _gpe_ _gpe_ via _g...</td>\n",
              "      <td>buy roundtrip return ticket _gpe_ _gpe_ via _g...</td>\n",
              "    </tr>\n",
              "    <tr>\n",
              "      <th>1</th>\n",
              "      <td>anchor881710</td>\n",
              "      <td>\"very concerned about the safety of Aeroflot\"</td>\n",
              "      <td>i am shocked at how far aeroflot standards hav...</td>\n",
              "      <td>no</td>\n",
              "      <td>shock far aeroflot standard fall since invade ...</td>\n",
              "      <td>shock far aeroflot standard fall since invade ...</td>\n",
              "      <td>shock far aeroflot standard fall since invade ...</td>\n",
              "    </tr>\n",
              "    <tr>\n",
              "      <th>2</th>\n",
              "      <td>anchor767446</td>\n",
              "      <td>\"felt very rushed and unpolished\"</td>\n",
              "      <td>aeroflot has set high standards of achieving a...</td>\n",
              "      <td>no</td>\n",
              "      <td>aeroflot set high standard achieve star airlin...</td>\n",
              "      <td>aeroflot set high standard achieve star airlin...</td>\n",
              "      <td>aeroflot set high standard achieve star airlin...</td>\n",
              "    </tr>\n",
              "    <tr>\n",
              "      <th>3</th>\n",
              "      <td>anchor758822</td>\n",
              "      <td>\"Best airline in Russia\"</td>\n",
              "      <td>best airline in _gpe_ very nice staff comforta...</td>\n",
              "      <td>yes</td>\n",
              "      <td>best airline _gpe_ nice staff comfortable seat...</td>\n",
              "      <td>best airline _gpe_ nice staff comfortable seat...</td>\n",
              "      <td>best airline _gpe_ nice staff comfortable seat...</td>\n",
              "    </tr>\n",
              "    <tr>\n",
              "      <th>4</th>\n",
              "      <td>anchor754420</td>\n",
              "      <td>\"cabin crew were outstanding\"</td>\n",
              "      <td>i was very impressed with the staff many thank...</td>\n",
              "      <td>yes</td>\n",
              "      <td>impress staff many thank aeroflot representati...</td>\n",
              "      <td>impress staff many thank aeroflot representati...</td>\n",
              "      <td>impress staff many thank aeroflot representati...</td>\n",
              "    </tr>\n",
              "  </tbody>\n",
              "</table>\n",
              "</div>\n",
              "    <div class=\"colab-df-buttons\">\n",
              "\n",
              "  <div class=\"colab-df-container\">\n",
              "    <button class=\"colab-df-convert\" onclick=\"convertToInteractive('df-87fe35a2-b5cb-4dba-906f-766665be4b3e')\"\n",
              "            title=\"Convert this dataframe to an interactive table.\"\n",
              "            style=\"display:none;\">\n",
              "\n",
              "  <svg xmlns=\"http://www.w3.org/2000/svg\" height=\"24px\" viewBox=\"0 -960 960 960\">\n",
              "    <path d=\"M120-120v-720h720v720H120Zm60-500h600v-160H180v160Zm220 220h160v-160H400v160Zm0 220h160v-160H400v160ZM180-400h160v-160H180v160Zm440 0h160v-160H620v160ZM180-180h160v-160H180v160Zm440 0h160v-160H620v160Z\"/>\n",
              "  </svg>\n",
              "    </button>\n",
              "\n",
              "  <style>\n",
              "    .colab-df-container {\n",
              "      display:flex;\n",
              "      gap: 12px;\n",
              "    }\n",
              "\n",
              "    .colab-df-convert {\n",
              "      background-color: #E8F0FE;\n",
              "      border: none;\n",
              "      border-radius: 50%;\n",
              "      cursor: pointer;\n",
              "      display: none;\n",
              "      fill: #1967D2;\n",
              "      height: 32px;\n",
              "      padding: 0 0 0 0;\n",
              "      width: 32px;\n",
              "    }\n",
              "\n",
              "    .colab-df-convert:hover {\n",
              "      background-color: #E2EBFA;\n",
              "      box-shadow: 0px 1px 2px rgba(60, 64, 67, 0.3), 0px 1px 3px 1px rgba(60, 64, 67, 0.15);\n",
              "      fill: #174EA6;\n",
              "    }\n",
              "\n",
              "    .colab-df-buttons div {\n",
              "      margin-bottom: 4px;\n",
              "    }\n",
              "\n",
              "    [theme=dark] .colab-df-convert {\n",
              "      background-color: #3B4455;\n",
              "      fill: #D2E3FC;\n",
              "    }\n",
              "\n",
              "    [theme=dark] .colab-df-convert:hover {\n",
              "      background-color: #434B5C;\n",
              "      box-shadow: 0px 1px 3px 1px rgba(0, 0, 0, 0.15);\n",
              "      filter: drop-shadow(0px 1px 2px rgba(0, 0, 0, 0.3));\n",
              "      fill: #FFFFFF;\n",
              "    }\n",
              "  </style>\n",
              "\n",
              "    <script>\n",
              "      const buttonEl =\n",
              "        document.querySelector('#df-87fe35a2-b5cb-4dba-906f-766665be4b3e button.colab-df-convert');\n",
              "      buttonEl.style.display =\n",
              "        google.colab.kernel.accessAllowed ? 'block' : 'none';\n",
              "\n",
              "      async function convertToInteractive(key) {\n",
              "        const element = document.querySelector('#df-87fe35a2-b5cb-4dba-906f-766665be4b3e');\n",
              "        const dataTable =\n",
              "          await google.colab.kernel.invokeFunction('convertToInteractive',\n",
              "                                                    [key], {});\n",
              "        if (!dataTable) return;\n",
              "\n",
              "        const docLinkHtml = 'Like what you see? Visit the ' +\n",
              "          '<a target=\"_blank\" href=https://colab.research.google.com/notebooks/data_table.ipynb>data table notebook</a>'\n",
              "          + ' to learn more about interactive tables.';\n",
              "        element.innerHTML = '';\n",
              "        dataTable['output_type'] = 'display_data';\n",
              "        await google.colab.output.renderOutput(dataTable, element);\n",
              "        const docLink = document.createElement('div');\n",
              "        docLink.innerHTML = docLinkHtml;\n",
              "        element.appendChild(docLink);\n",
              "      }\n",
              "    </script>\n",
              "  </div>\n",
              "\n",
              "\n",
              "<div id=\"df-b04a02e8-2163-4fb6-b57e-efa40dc824fc\">\n",
              "  <button class=\"colab-df-quickchart\" onclick=\"quickchart('df-b04a02e8-2163-4fb6-b57e-efa40dc824fc')\"\n",
              "            title=\"Suggest charts\"\n",
              "            style=\"display:none;\">\n",
              "\n",
              "<svg xmlns=\"http://www.w3.org/2000/svg\" height=\"24px\"viewBox=\"0 0 24 24\"\n",
              "     width=\"24px\">\n",
              "    <g>\n",
              "        <path d=\"M19 3H5c-1.1 0-2 .9-2 2v14c0 1.1.9 2 2 2h14c1.1 0 2-.9 2-2V5c0-1.1-.9-2-2-2zM9 17H7v-7h2v7zm4 0h-2V7h2v10zm4 0h-2v-4h2v4z\"/>\n",
              "    </g>\n",
              "</svg>\n",
              "  </button>\n",
              "\n",
              "<style>\n",
              "  .colab-df-quickchart {\n",
              "      --bg-color: #E8F0FE;\n",
              "      --fill-color: #1967D2;\n",
              "      --hover-bg-color: #E2EBFA;\n",
              "      --hover-fill-color: #174EA6;\n",
              "      --disabled-fill-color: #AAA;\n",
              "      --disabled-bg-color: #DDD;\n",
              "  }\n",
              "\n",
              "  [theme=dark] .colab-df-quickchart {\n",
              "      --bg-color: #3B4455;\n",
              "      --fill-color: #D2E3FC;\n",
              "      --hover-bg-color: #434B5C;\n",
              "      --hover-fill-color: #FFFFFF;\n",
              "      --disabled-bg-color: #3B4455;\n",
              "      --disabled-fill-color: #666;\n",
              "  }\n",
              "\n",
              "  .colab-df-quickchart {\n",
              "    background-color: var(--bg-color);\n",
              "    border: none;\n",
              "    border-radius: 50%;\n",
              "    cursor: pointer;\n",
              "    display: none;\n",
              "    fill: var(--fill-color);\n",
              "    height: 32px;\n",
              "    padding: 0;\n",
              "    width: 32px;\n",
              "  }\n",
              "\n",
              "  .colab-df-quickchart:hover {\n",
              "    background-color: var(--hover-bg-color);\n",
              "    box-shadow: 0 1px 2px rgba(60, 64, 67, 0.3), 0 1px 3px 1px rgba(60, 64, 67, 0.15);\n",
              "    fill: var(--button-hover-fill-color);\n",
              "  }\n",
              "\n",
              "  .colab-df-quickchart-complete:disabled,\n",
              "  .colab-df-quickchart-complete:disabled:hover {\n",
              "    background-color: var(--disabled-bg-color);\n",
              "    fill: var(--disabled-fill-color);\n",
              "    box-shadow: none;\n",
              "  }\n",
              "\n",
              "  .colab-df-spinner {\n",
              "    border: 2px solid var(--fill-color);\n",
              "    border-color: transparent;\n",
              "    border-bottom-color: var(--fill-color);\n",
              "    animation:\n",
              "      spin 1s steps(1) infinite;\n",
              "  }\n",
              "\n",
              "  @keyframes spin {\n",
              "    0% {\n",
              "      border-color: transparent;\n",
              "      border-bottom-color: var(--fill-color);\n",
              "      border-left-color: var(--fill-color);\n",
              "    }\n",
              "    20% {\n",
              "      border-color: transparent;\n",
              "      border-left-color: var(--fill-color);\n",
              "      border-top-color: var(--fill-color);\n",
              "    }\n",
              "    30% {\n",
              "      border-color: transparent;\n",
              "      border-left-color: var(--fill-color);\n",
              "      border-top-color: var(--fill-color);\n",
              "      border-right-color: var(--fill-color);\n",
              "    }\n",
              "    40% {\n",
              "      border-color: transparent;\n",
              "      border-right-color: var(--fill-color);\n",
              "      border-top-color: var(--fill-color);\n",
              "    }\n",
              "    60% {\n",
              "      border-color: transparent;\n",
              "      border-right-color: var(--fill-color);\n",
              "    }\n",
              "    80% {\n",
              "      border-color: transparent;\n",
              "      border-right-color: var(--fill-color);\n",
              "      border-bottom-color: var(--fill-color);\n",
              "    }\n",
              "    90% {\n",
              "      border-color: transparent;\n",
              "      border-bottom-color: var(--fill-color);\n",
              "    }\n",
              "  }\n",
              "</style>\n",
              "\n",
              "  <script>\n",
              "    async function quickchart(key) {\n",
              "      const quickchartButtonEl =\n",
              "        document.querySelector('#' + key + ' button');\n",
              "      quickchartButtonEl.disabled = true;  // To prevent multiple clicks.\n",
              "      quickchartButtonEl.classList.add('colab-df-spinner');\n",
              "      try {\n",
              "        const charts = await google.colab.kernel.invokeFunction(\n",
              "            'suggestCharts', [key], {});\n",
              "      } catch (error) {\n",
              "        console.error('Error during call to suggestCharts:', error);\n",
              "      }\n",
              "      quickchartButtonEl.classList.remove('colab-df-spinner');\n",
              "      quickchartButtonEl.classList.add('colab-df-quickchart-complete');\n",
              "    }\n",
              "    (() => {\n",
              "      let quickchartButtonEl =\n",
              "        document.querySelector('#df-b04a02e8-2163-4fb6-b57e-efa40dc824fc button');\n",
              "      quickchartButtonEl.style.display =\n",
              "        google.colab.kernel.accessAllowed ? 'block' : 'none';\n",
              "    })();\n",
              "  </script>\n",
              "</div>\n",
              "\n",
              "    </div>\n",
              "  </div>\n"
            ],
            "text/plain": [
              "      Review id                                  Review header  \\\n",
              "0  anchor885571                    \"very terrible experience\"    \n",
              "1  anchor881710  \"very concerned about the safety of Aeroflot\"   \n",
              "2  anchor767446              \"felt very rushed and unpolished\"   \n",
              "3  anchor758822                       \"Best airline in Russia\"   \n",
              "4  anchor754420                  \"cabin crew were outstanding\"   \n",
              "\n",
              "                                              Review Recommended  \\\n",
              "0  i bought roundtrip and return tickets from _gp...          no   \n",
              "1  i am shocked at how far aeroflot standards hav...          no   \n",
              "2  aeroflot has set high standards of achieving a...          no   \n",
              "3  best airline in _gpe_ very nice staff comforta...         yes   \n",
              "4  i was very impressed with the staff many thank...         yes   \n",
              "\n",
              "                                      Review_cleaned  \\\n",
              "0  buy roundtrip return ticket _gpe_ _gpe_ via _g...   \n",
              "1  shock far aeroflot standard fall since invade ...   \n",
              "2  aeroflot set high standard achieve star airlin...   \n",
              "3  best airline _gpe_ nice staff comfortable seat...   \n",
              "4  impress staff many thank aeroflot representati...   \n",
              "\n",
              "                                      Review_bigrams  \\\n",
              "0  buy roundtrip return ticket _gpe_ _gpe_ via _g...   \n",
              "1  shock far aeroflot standard fall since invade ...   \n",
              "2  aeroflot set high standard achieve star airlin...   \n",
              "3  best airline _gpe_ nice staff comfortable seat...   \n",
              "4  impress staff many thank aeroflot representati...   \n",
              "\n",
              "                                     Review_trigrams  \n",
              "0  buy roundtrip return ticket _gpe_ _gpe_ via _g...  \n",
              "1  shock far aeroflot standard fall since invade ...  \n",
              "2  aeroflot set high standard achieve star airlin...  \n",
              "3  best airline _gpe_ nice staff comfortable seat...  \n",
              "4  impress staff many thank aeroflot representati...  "
            ]
          },
          "execution_count": 5,
          "metadata": {},
          "output_type": "execute_result"
        }
      ],
      "source": [
        "df = pd.read_csv('/content/drive/MyDrive/BA documents/data/text_cleaning_new.csv')\n",
        "df.head()"
      ]
    },
    {
      "cell_type": "code",
      "execution_count": null,
      "metadata": {
        "id": "fbFqW5bAte7W"
      },
      "outputs": [],
      "source": [
        "df['Recommended'] = df['Recommended'].map({'yes': 1, 'no': 0})\n",
        "X = df['Review_trigrams']\n",
        "y = df['Recommended']\n",
        "X_train, X_test, y_train, y_test = train_test_split(X, y, test_size=0.2, random_state=42)"
      ]
    },
    {
      "cell_type": "markdown",
      "metadata": {
        "id": "F8qIQOm9vO-b"
      },
      "source": [
        "# Tokenize"
      ]
    },
    {
      "cell_type": "code",
      "execution_count": null,
      "metadata": {
        "colab": {
          "base_uri": "https://localhost:8080/"
        },
        "id": "_94urVpOvN3X",
        "outputId": "cab8fdf2-c258-4b8c-9e3a-f5a42452a45f"
      },
      "outputs": [
        {
          "name": "stderr",
          "output_type": "stream",
          "text": [
            "100%|██████████| 46345/46345 [00:19<00:00, 2426.40it/s]\n",
            "100%|██████████| 11587/11587 [00:05<00:00, 2108.68it/s]\n"
          ]
        }
      ],
      "source": [
        "tokenizedText_train=[nltk.word_tokenize(item) for item in tqdm(X_train, total=len(X_train))]\n",
        "tokenizedText_test=[nltk.word_tokenize(item) for item in tqdm(X_test, total=len(X_test))]"
      ]
    },
    {
      "cell_type": "markdown",
      "metadata": {
        "id": "t0rc3jT-ttwg"
      },
      "source": [
        "# Skipgram"
      ]
    },
    {
      "cell_type": "code",
      "execution_count": null,
      "metadata": {
        "id": "0DOodfbUtiOo"
      },
      "outputs": [],
      "source": [
        "# embeddingsSize=128\n",
        "model=Word2Vec(tokenizedText_train,\n",
        "              #  vector_size=embeddingsSize,\n",
        "               window=5, min_count=1, workers=4,sg=1,\n",
        "               vector_size=128)"
      ]
    },
    {
      "cell_type": "code",
      "execution_count": null,
      "metadata": {
        "colab": {
          "base_uri": "https://localhost:8080/"
        },
        "id": "jv2Rww1QxKq2",
        "outputId": "cb39993d-688d-466f-bfe1-2cc35422b139"
      },
      "outputs": [
        {
          "name": "stderr",
          "output_type": "stream",
          "text": [
            "100%|██████████| 46345/46345 [00:13<00:00, 3424.78it/s]\n",
            "100%|██████████| 11587/11587 [00:02<00:00, 3924.24it/s]\n"
          ]
        }
      ],
      "source": [
        "trainReviewVectors=getVectors(model,tokenizedText_train,128)\n",
        "testReviewVectors=getVectors(model, tokenizedText_test,128)"
      ]
    },
    {
      "cell_type": "markdown",
      "metadata": {
        "id": "ynsP7JWUyadr"
      },
      "source": [
        "# ML model"
      ]
    },
    {
      "cell_type": "markdown",
      "metadata": {
        "id": "vJK9Q7fhy1mq"
      },
      "source": [
        "## SVC"
      ]
    },
    {
      "cell_type": "code",
      "execution_count": null,
      "metadata": {
        "colab": {
          "base_uri": "https://localhost:8080/"
        },
        "id": "lFhHonp8xR7y",
        "outputId": "aea0971f-ded8-42d5-da1d-0a4b4e447277"
      },
      "outputs": [
        {
          "name": "stdout",
          "output_type": "stream",
          "text": [
            "              precision    recall  f1-score   support\n",
            "\n",
            "           0       0.93      0.95      0.94      7050\n",
            "           1       0.92      0.88      0.90      4537\n",
            "\n",
            "    accuracy                           0.92     11587\n",
            "   macro avg       0.92      0.92      0.92     11587\n",
            "weighted avg       0.92      0.92      0.92     11587\n",
            "\n"
          ]
        }
      ],
      "source": [
        "clf = LinearSVC(random_state=0)\n",
        "clf.fit(trainReviewVectors, y_train)\n",
        "y_pred = clf.predict(testReviewVectors)\n",
        "print(classification_report(y_test, y_pred))"
      ]
    },
    {
      "cell_type": "markdown",
      "metadata": {
        "id": "mby1pLX_y3AX"
      },
      "source": [
        "## Logistic Regression"
      ]
    },
    {
      "cell_type": "code",
      "execution_count": null,
      "metadata": {
        "colab": {
          "base_uri": "https://localhost:8080/"
        },
        "id": "_YHVYD0MypoJ",
        "outputId": "a83bd642-d388-4481-c2bc-4ceb1a87741f"
      },
      "outputs": [
        {
          "name": "stdout",
          "output_type": "stream",
          "text": [
            "              precision    recall  f1-score   support\n",
            "\n",
            "           0       0.93      0.95      0.94      7050\n",
            "           1       0.92      0.88      0.90      4537\n",
            "\n",
            "    accuracy                           0.92     11587\n",
            "   macro avg       0.92      0.92      0.92     11587\n",
            "weighted avg       0.92      0.92      0.92     11587\n",
            "\n"
          ]
        }
      ],
      "source": [
        "clf = LogisticRegression(max_iter=1000)\n",
        "clf.fit(trainReviewVectors, y_train)\n",
        "y_pred = clf.predict(testReviewVectors)\n",
        "print(classification_report(y_test, y_pred))"
      ]
    },
    {
      "cell_type": "markdown",
      "metadata": {
        "id": "8Ut2JuihzWjZ"
      },
      "source": [
        "## Random Forest"
      ]
    },
    {
      "cell_type": "code",
      "execution_count": null,
      "metadata": {
        "colab": {
          "base_uri": "https://localhost:8080/"
        },
        "id": "fQx1Qy9Py70D",
        "outputId": "22e21b29-47ef-4b8a-cf68-545526b9f3b9"
      },
      "outputs": [
        {
          "name": "stdout",
          "output_type": "stream",
          "text": [
            "              precision    recall  f1-score   support\n",
            "\n",
            "           0       0.91      0.94      0.93      7050\n",
            "           1       0.90      0.86      0.88      4537\n",
            "\n",
            "    accuracy                           0.91     11587\n",
            "   macro avg       0.91      0.90      0.90     11587\n",
            "weighted avg       0.91      0.91      0.91     11587\n",
            "\n"
          ]
        }
      ],
      "source": [
        "clf = RandomForestClassifier()\n",
        "clf.fit(trainReviewVectors, y_train)\n",
        "y_pred = clf.predict(testReviewVectors)\n",
        "print(classification_report(y_test, y_pred))"
      ]
    },
    {
      "cell_type": "markdown",
      "metadata": {
        "id": "Ls99NNs30Bd2"
      },
      "source": [
        "## Decision Tree"
      ]
    },
    {
      "cell_type": "code",
      "execution_count": null,
      "metadata": {
        "colab": {
          "base_uri": "https://localhost:8080/"
        },
        "id": "VbfN1K1ezb5b",
        "outputId": "61f125a4-a236-459d-ea6c-d8e762619140"
      },
      "outputs": [
        {
          "name": "stdout",
          "output_type": "stream",
          "text": [
            "              precision    recall  f1-score   support\n",
            "\n",
            "           0       0.86      0.86      0.86      7050\n",
            "           1       0.78      0.78      0.78      4537\n",
            "\n",
            "    accuracy                           0.83     11587\n",
            "   macro avg       0.82      0.82      0.82     11587\n",
            "weighted avg       0.83      0.83      0.83     11587\n",
            "\n"
          ]
        }
      ],
      "source": [
        "clf = DecisionTreeClassifier()\n",
        "clf.fit(trainReviewVectors, y_train)\n",
        "y_pred = clf.predict(testReviewVectors)\n",
        "print(classification_report(y_test, y_pred))"
      ]
    },
    {
      "cell_type": "markdown",
      "metadata": {
        "id": "vtVtL9Df787P"
      },
      "source": [
        "## GausianNB"
      ]
    },
    {
      "cell_type": "code",
      "execution_count": null,
      "metadata": {
        "colab": {
          "base_uri": "https://localhost:8080/"
        },
        "id": "Y-x6TURh0Fwn",
        "outputId": "b33c5fb4-3f84-47ce-ee97-19e800dc7134"
      },
      "outputs": [
        {
          "name": "stdout",
          "output_type": "stream",
          "text": [
            "              precision    recall  f1-score   support\n",
            "\n",
            "           0       0.89      0.83      0.86      7050\n",
            "           1       0.76      0.83      0.80      4537\n",
            "\n",
            "    accuracy                           0.83     11587\n",
            "   macro avg       0.82      0.83      0.83     11587\n",
            "weighted avg       0.84      0.83      0.83     11587\n",
            "\n"
          ]
        }
      ],
      "source": [
        "clf = GaussianNB()\n",
        "clf.fit(trainReviewVectors, y_train)\n",
        "y_pred = clf.predict(testReviewVectors)\n",
        "print(classification_report(y_test, y_pred))"
      ]
    },
    {
      "cell_type": "markdown",
      "metadata": {
        "id": "yjPrK1U38HvU"
      },
      "source": [
        "## KNN\n"
      ]
    },
    {
      "cell_type": "code",
      "execution_count": null,
      "metadata": {
        "colab": {
          "base_uri": "https://localhost:8080/"
        },
        "id": "fNxa4bJy7_ww",
        "outputId": "d47e2395-0b86-4ef2-b032-8929602de45b"
      },
      "outputs": [
        {
          "name": "stdout",
          "output_type": "stream",
          "text": [
            "              precision    recall  f1-score   support\n",
            "\n",
            "           0       0.91      0.92      0.92      7050\n",
            "           1       0.88      0.86      0.87      4537\n",
            "\n",
            "    accuracy                           0.90     11587\n",
            "   macro avg       0.89      0.89      0.89     11587\n",
            "weighted avg       0.90      0.90      0.90     11587\n",
            "\n"
          ]
        }
      ],
      "source": [
        "clf = KNeighborsClassifier()\n",
        "clf.fit(trainReviewVectors, y_train)\n",
        "y_pred = clf.predict(testReviewVectors)\n",
        "print(classification_report(y_test, y_pred))"
      ]
    },
    {
      "cell_type": "markdown",
      "metadata": {
        "id": "FjSS7Tdm8iWs"
      },
      "source": [
        "## AdaBoost"
      ]
    },
    {
      "cell_type": "code",
      "execution_count": null,
      "metadata": {
        "colab": {
          "base_uri": "https://localhost:8080/"
        },
        "id": "5TBqOA2V8LKl",
        "outputId": "a01b4729-502f-4ece-a599-217dad48039a"
      },
      "outputs": [
        {
          "name": "stdout",
          "output_type": "stream",
          "text": [
            "              precision    recall  f1-score   support\n",
            "\n",
            "           0       0.91      0.92      0.92      7050\n",
            "           1       0.88      0.86      0.87      4537\n",
            "\n",
            "    accuracy                           0.90     11587\n",
            "   macro avg       0.89      0.89      0.89     11587\n",
            "weighted avg       0.90      0.90      0.90     11587\n",
            "\n"
          ]
        }
      ],
      "source": [
        "adb = AdaBoostClassifier()\n",
        "adb.fit(trainReviewVectors, y_train)\n",
        "y_pred = adb.predict(testReviewVectors)\n",
        "print(classification_report(y_test, y_pred))"
      ]
    },
    {
      "cell_type": "markdown",
      "metadata": {
        "id": "uvcUYnGUGas2"
      },
      "source": [
        "## Gradient Boosting"
      ]
    },
    {
      "cell_type": "code",
      "execution_count": null,
      "metadata": {
        "colab": {
          "base_uri": "https://localhost:8080/"
        },
        "id": "hzBjaRkU8nrr",
        "outputId": "81fd547e-c639-476a-d35b-d989c5df7a4d"
      },
      "outputs": [
        {
          "name": "stdout",
          "output_type": "stream",
          "text": [
            "              precision    recall  f1-score   support\n",
            "\n",
            "           0       0.92      0.94      0.93      7050\n",
            "           1       0.90      0.87      0.89      4537\n",
            "\n",
            "    accuracy                           0.91     11587\n",
            "   macro avg       0.91      0.90      0.91     11587\n",
            "weighted avg       0.91      0.91      0.91     11587\n",
            "\n"
          ]
        }
      ],
      "source": [
        "gdb = GradientBoostingClassifier()\n",
        "gdb.fit(trainReviewVectors, y_train)\n",
        "y_pred = gdb.predict(testReviewVectors)\n",
        "print(classification_report(y_test, y_pred))"
      ]
    },
    {
      "cell_type": "code",
      "execution_count": null,
      "metadata": {
        "id": "b_SABP8HGeuj"
      },
      "outputs": [],
      "source": []
    }
  ],
  "metadata": {
    "colab": {
      "provenance": [],
      "toc_visible": true
    },
    "kernelspec": {
      "display_name": "Python 3",
      "name": "python3"
    },
    "language_info": {
      "name": "python"
    }
  },
  "nbformat": 4,
  "nbformat_minor": 0
}
