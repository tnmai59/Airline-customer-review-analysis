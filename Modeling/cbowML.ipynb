{
  "cells": [
    {
      "cell_type": "markdown",
      "metadata": {
        "id": "YaUrzncuNDOc"
      },
      "source": [
        "# Import lib\n"
      ]
    },
    {
      "cell_type": "code",
      "execution_count": null,
      "metadata": {
        "colab": {
          "base_uri": "https://localhost:8080/"
        },
        "id": "NddtKsqxMrvK",
        "outputId": "7d49d480-fee7-4a86-cbd7-9fe04988ff94"
      },
      "outputs": [
        {
          "name": "stderr",
          "output_type": "stream",
          "text": [
            "[nltk_data] Downloading package punkt to /root/nltk_data...\n",
            "[nltk_data]   Unzipping tokenizers/punkt.zip.\n"
          ]
        },
        {
          "data": {
            "text/plain": [
              "True"
            ]
          },
          "execution_count": 1,
          "metadata": {},
          "output_type": "execute_result"
        }
      ],
      "source": [
        "from utils import *\n",
        "\n",
        "from sklearn.metrics import classification_report\n",
        "from sklearn.svm import LinearSVC\n",
        "from sklearn.linear_model import LogisticRegression\n",
        "from sklearn.ensemble import RandomForestClassifier\n",
        "from sklearn.neighbors import KNeighborsClassifier\n",
        "from sklearn.naive_bayes import GaussianNB\n",
        "from sklearn.tree import DecisionTreeClassifier\n",
        "from sklearn.ensemble import AdaBoostClassifier\n",
        "from sklearn.ensemble import GradientBoostingClassifier\n",
        "\n",
        "nltk.download('punkt')\n"
      ]
    },
    {
      "cell_type": "markdown",
      "metadata": {
        "id": "xvKZChDvNJ20"
      },
      "source": [
        "# Loading data"
      ]
    },
    {
      "cell_type": "code",
      "execution_count": null,
      "metadata": {
        "colab": {
          "base_uri": "https://localhost:8080/",
          "height": 588
        },
        "id": "qKOlwcadNIJR",
        "outputId": "1940358b-cd4b-4ae8-b20a-cf908f4daa30"
      },
      "outputs": [
        {
          "data": {
            "application/vnd.google.colaboratory.intrinsic+json": {
              "summary": "{\n  \"name\": \"df\",\n  \"rows\": 57932,\n  \"fields\": [\n    {\n      \"column\": \"Review id\",\n      \"properties\": {\n        \"dtype\": \"string\",\n        \"num_unique_values\": 57932,\n        \"samples\": [\n          \"anchor836096\",\n          \"anchor817437\",\n          \"anchor595880\"\n        ],\n        \"semantic_type\": \"\",\n        \"description\": \"\"\n      }\n    },\n    {\n      \"column\": \"Review header\",\n      \"properties\": {\n        \"dtype\": \"string\",\n        \"num_unique_values\": 46636,\n        \"samples\": [\n          \"\\\"What used to be excellent soft product has really worsened\\\"\",\n          \"\\\"airline staff was horrible\\\"\",\n          \"\\\"Air France did not meet my expectations\\\"\"\n        ],\n        \"semantic_type\": \"\",\n        \"description\": \"\"\n      }\n    },\n    {\n      \"column\": \"Review\",\n      \"properties\": {\n        \"dtype\": \"string\",\n        \"num_unique_values\": 57918,\n        \"samples\": [\n          \"worst experience of my life the pilot was taking her time after boarding all the instructions had already been explained and they sat there for _time_ _time_ after instructions were instructed so i got up to use restroom it was an emergency the flight attendant had the nerve to block the bathroom and tell me to sit back down i said that it was an emergancy and they kicked my family off the flight this is unbelievable and unfair and we are stuck without a flight back home i am not okay with this\",\n          \"_gpe_ to _gpe_ seats are slightly better compared to airaasia however priority privilege such as board me first was not given after purchasing flight experience was acceptable for low cost carrier flights\",\n          \"_gpe_ to _gpe_ with frontier airlines given all the extremely negative reviews i felt the need to share my experience frontier is a discount airline there are no hidden fees they beat you over the head with all of their fees book your bags now for _money_ if you book at airport it will be _money_ how people are surprised by this i do not know you can easily log into their website calculate the seat fees luggage fees etc and then compare to other airlines the plane was nice i was shocked plane took off on time and landed early yay so based on this one flight i will give them a i will use them again if i ever needed to travel for cheap and was n t on a strict timeline\"\n        ],\n        \"semantic_type\": \"\",\n        \"description\": \"\"\n      }\n    },\n    {\n      \"column\": \"Recommended\",\n      \"properties\": {\n        \"dtype\": \"category\",\n        \"num_unique_values\": 2,\n        \"samples\": [\n          \"yes\",\n          \"no\"\n        ],\n        \"semantic_type\": \"\",\n        \"description\": \"\"\n      }\n    },\n    {\n      \"column\": \"Review_cleaned\",\n      \"properties\": {\n        \"dtype\": \"string\",\n        \"num_unique_values\": 57916,\n        \"samples\": [\n          \"_gpe_ _gpe_ _gpe_ b look bite tire compare b er seat pitch seem tight entertainment screen crack fully respond headset awful seem increase engine noise necessitate deafen volume hear anything screen seat cushion bite lack pad wine arrive early climb _time_ _time_ experience severe turbulence spite regular call seat belt fasten even crew return seat lengthy period service somehow maintain dinner time king prawn rice green sweet chile sauce good often business class approach _gpe_ equally bumpy finish excellent smooth land _time_ _time_ compliment purser staff performance invite area rear repeat comment want hear compliment give couple drambuie take home souvenir good way fly economy although try get b er possibly bring noise cancel headset\",\n          \"bad airline ever travel start use _date_ _date_ try airline like southwest jetblue delta always delay rude staff overprice cancel ticket _time_ book overcharge everything never book bye bye unite ever\"\n        ],\n        \"semantic_type\": \"\",\n        \"description\": \"\"\n      }\n    },\n    {\n      \"column\": \"Review_bigrams\",\n      \"properties\": {\n        \"dtype\": \"string\",\n        \"num_unique_values\": 57916,\n        \"samples\": [\n          \"_gpe_ _gpe_ _gpe_ b look bite tire compare b_er seat pitch seem tight entertainment screen crack fully respond headset awful seem increase engine noise necessitate deafen volume hear anything screen seat cushion bite lack pad wine arrive early climb _time_ _time_ experience severe turbulence spite regular call seat belt fasten even crew return seat lengthy period service somehow maintain dinner time king prawn rice green sweet chile sauce good often business class approach _gpe_ equally bumpy finish excellent smooth land _time_ _time_ compliment purser staff performance invite area rear repeat comment want hear compliment give couple drambuie take home souvenir good way fly economy although try get b_er possibly bring noise cancel headset\",\n          \"bad airline ever travel start use _date_ _date_ try airline like southwest jetblue delta always delay rude staff overprice cancel ticket _time_ book overcharge everything never book bye_bye unite ever\"\n        ],\n        \"semantic_type\": \"\",\n        \"description\": \"\"\n      }\n    },\n    {\n      \"column\": \"Review_trigrams\",\n      \"properties\": {\n        \"dtype\": \"string\",\n        \"num_unique_values\": 57916,\n        \"samples\": [\n          \"_gpe_ _gpe_ _gpe_ b look bite tire compare b_er seat pitch seem tight entertainment screen crack fully respond headset awful seem increase engine noise necessitate deafen volume hear anything screen seat cushion bite lack pad wine arrive early climb _time_ _time_ experience severe_turbulence spite regular call seat belt fasten even crew return seat lengthy period service somehow maintain dinner time king prawn rice green sweet chile sauce good often business class approach _gpe_ equally bumpy finish excellent smooth land _time_ _time_ compliment purser staff performance invite area rear repeat comment want hear compliment give couple drambuie take home souvenir good way fly economy although try get b_er possibly bring noise cancel headset\",\n          \"bad airline ever travel start use _date_ _date_ try airline like southwest jetblue delta always delay rude staff overprice cancel ticket _time_ book overcharge everything never book bye_bye unite ever\"\n        ],\n        \"semantic_type\": \"\",\n        \"description\": \"\"\n      }\n    }\n  ]\n}",
              "type": "dataframe",
              "variable_name": "df"
            },
            "text/html": [
              "\n",
              "  <div id=\"df-8b475b47-aa86-4ebc-a0a5-2ec9e7ff9feb\" class=\"colab-df-container\">\n",
              "    <div>\n",
              "<style scoped>\n",
              "    .dataframe tbody tr th:only-of-type {\n",
              "        vertical-align: middle;\n",
              "    }\n",
              "\n",
              "    .dataframe tbody tr th {\n",
              "        vertical-align: top;\n",
              "    }\n",
              "\n",
              "    .dataframe thead th {\n",
              "        text-align: right;\n",
              "    }\n",
              "</style>\n",
              "<table border=\"1\" class=\"dataframe\">\n",
              "  <thead>\n",
              "    <tr style=\"text-align: right;\">\n",
              "      <th></th>\n",
              "      <th>Review id</th>\n",
              "      <th>Review header</th>\n",
              "      <th>Review</th>\n",
              "      <th>Recommended</th>\n",
              "      <th>Review_cleaned</th>\n",
              "      <th>Review_bigrams</th>\n",
              "      <th>Review_trigrams</th>\n",
              "    </tr>\n",
              "  </thead>\n",
              "  <tbody>\n",
              "    <tr>\n",
              "      <th>0</th>\n",
              "      <td>anchor885571</td>\n",
              "      <td>\"very terrible experience\"</td>\n",
              "      <td>i bought roundtrip and return tickets from _gp...</td>\n",
              "      <td>no</td>\n",
              "      <td>buy roundtrip return ticket _gpe_ _gpe_ via _g...</td>\n",
              "      <td>buy roundtrip return ticket _gpe_ _gpe_ via _g...</td>\n",
              "      <td>buy roundtrip return ticket _gpe_ _gpe_ via _g...</td>\n",
              "    </tr>\n",
              "    <tr>\n",
              "      <th>1</th>\n",
              "      <td>anchor881710</td>\n",
              "      <td>\"very concerned about the safety of Aeroflot\"</td>\n",
              "      <td>i am shocked at how far aeroflot standards hav...</td>\n",
              "      <td>no</td>\n",
              "      <td>shock far aeroflot standard fall since invade ...</td>\n",
              "      <td>shock far aeroflot standard fall since invade ...</td>\n",
              "      <td>shock far aeroflot standard fall since invade ...</td>\n",
              "    </tr>\n",
              "    <tr>\n",
              "      <th>2</th>\n",
              "      <td>anchor767446</td>\n",
              "      <td>\"felt very rushed and unpolished\"</td>\n",
              "      <td>aeroflot has set high standards of achieving a...</td>\n",
              "      <td>no</td>\n",
              "      <td>aeroflot set high standard achieve star airlin...</td>\n",
              "      <td>aeroflot set high standard achieve star airlin...</td>\n",
              "      <td>aeroflot set high standard achieve star airlin...</td>\n",
              "    </tr>\n",
              "    <tr>\n",
              "      <th>3</th>\n",
              "      <td>anchor758822</td>\n",
              "      <td>\"Best airline in Russia\"</td>\n",
              "      <td>best airline in _gpe_ very nice staff comforta...</td>\n",
              "      <td>yes</td>\n",
              "      <td>best airline _gpe_ nice staff comfortable seat...</td>\n",
              "      <td>best airline _gpe_ nice staff comfortable seat...</td>\n",
              "      <td>best airline _gpe_ nice staff comfortable seat...</td>\n",
              "    </tr>\n",
              "    <tr>\n",
              "      <th>4</th>\n",
              "      <td>anchor754420</td>\n",
              "      <td>\"cabin crew were outstanding\"</td>\n",
              "      <td>i was very impressed with the staff many thank...</td>\n",
              "      <td>yes</td>\n",
              "      <td>impress staff many thank aeroflot representati...</td>\n",
              "      <td>impress staff many thank aeroflot representati...</td>\n",
              "      <td>impress staff many thank aeroflot representati...</td>\n",
              "    </tr>\n",
              "  </tbody>\n",
              "</table>\n",
              "</div>\n",
              "    <div class=\"colab-df-buttons\">\n",
              "\n",
              "  <div class=\"colab-df-container\">\n",
              "    <button class=\"colab-df-convert\" onclick=\"convertToInteractive('df-8b475b47-aa86-4ebc-a0a5-2ec9e7ff9feb')\"\n",
              "            title=\"Convert this dataframe to an interactive table.\"\n",
              "            style=\"display:none;\">\n",
              "\n",
              "  <svg xmlns=\"http://www.w3.org/2000/svg\" height=\"24px\" viewBox=\"0 -960 960 960\">\n",
              "    <path d=\"M120-120v-720h720v720H120Zm60-500h600v-160H180v160Zm220 220h160v-160H400v160Zm0 220h160v-160H400v160ZM180-400h160v-160H180v160Zm440 0h160v-160H620v160ZM180-180h160v-160H180v160Zm440 0h160v-160H620v160Z\"/>\n",
              "  </svg>\n",
              "    </button>\n",
              "\n",
              "  <style>\n",
              "    .colab-df-container {\n",
              "      display:flex;\n",
              "      gap: 12px;\n",
              "    }\n",
              "\n",
              "    .colab-df-convert {\n",
              "      background-color: #E8F0FE;\n",
              "      border: none;\n",
              "      border-radius: 50%;\n",
              "      cursor: pointer;\n",
              "      display: none;\n",
              "      fill: #1967D2;\n",
              "      height: 32px;\n",
              "      padding: 0 0 0 0;\n",
              "      width: 32px;\n",
              "    }\n",
              "\n",
              "    .colab-df-convert:hover {\n",
              "      background-color: #E2EBFA;\n",
              "      box-shadow: 0px 1px 2px rgba(60, 64, 67, 0.3), 0px 1px 3px 1px rgba(60, 64, 67, 0.15);\n",
              "      fill: #174EA6;\n",
              "    }\n",
              "\n",
              "    .colab-df-buttons div {\n",
              "      margin-bottom: 4px;\n",
              "    }\n",
              "\n",
              "    [theme=dark] .colab-df-convert {\n",
              "      background-color: #3B4455;\n",
              "      fill: #D2E3FC;\n",
              "    }\n",
              "\n",
              "    [theme=dark] .colab-df-convert:hover {\n",
              "      background-color: #434B5C;\n",
              "      box-shadow: 0px 1px 3px 1px rgba(0, 0, 0, 0.15);\n",
              "      filter: drop-shadow(0px 1px 2px rgba(0, 0, 0, 0.3));\n",
              "      fill: #FFFFFF;\n",
              "    }\n",
              "  </style>\n",
              "\n",
              "    <script>\n",
              "      const buttonEl =\n",
              "        document.querySelector('#df-8b475b47-aa86-4ebc-a0a5-2ec9e7ff9feb button.colab-df-convert');\n",
              "      buttonEl.style.display =\n",
              "        google.colab.kernel.accessAllowed ? 'block' : 'none';\n",
              "\n",
              "      async function convertToInteractive(key) {\n",
              "        const element = document.querySelector('#df-8b475b47-aa86-4ebc-a0a5-2ec9e7ff9feb');\n",
              "        const dataTable =\n",
              "          await google.colab.kernel.invokeFunction('convertToInteractive',\n",
              "                                                    [key], {});\n",
              "        if (!dataTable) return;\n",
              "\n",
              "        const docLinkHtml = 'Like what you see? Visit the ' +\n",
              "          '<a target=\"_blank\" href=https://colab.research.google.com/notebooks/data_table.ipynb>data table notebook</a>'\n",
              "          + ' to learn more about interactive tables.';\n",
              "        element.innerHTML = '';\n",
              "        dataTable['output_type'] = 'display_data';\n",
              "        await google.colab.output.renderOutput(dataTable, element);\n",
              "        const docLink = document.createElement('div');\n",
              "        docLink.innerHTML = docLinkHtml;\n",
              "        element.appendChild(docLink);\n",
              "      }\n",
              "    </script>\n",
              "  </div>\n",
              "\n",
              "\n",
              "<div id=\"df-89afa6df-a9e6-4377-8a1d-3c011801c1a0\">\n",
              "  <button class=\"colab-df-quickchart\" onclick=\"quickchart('df-89afa6df-a9e6-4377-8a1d-3c011801c1a0')\"\n",
              "            title=\"Suggest charts\"\n",
              "            style=\"display:none;\">\n",
              "\n",
              "<svg xmlns=\"http://www.w3.org/2000/svg\" height=\"24px\"viewBox=\"0 0 24 24\"\n",
              "     width=\"24px\">\n",
              "    <g>\n",
              "        <path d=\"M19 3H5c-1.1 0-2 .9-2 2v14c0 1.1.9 2 2 2h14c1.1 0 2-.9 2-2V5c0-1.1-.9-2-2-2zM9 17H7v-7h2v7zm4 0h-2V7h2v10zm4 0h-2v-4h2v4z\"/>\n",
              "    </g>\n",
              "</svg>\n",
              "  </button>\n",
              "\n",
              "<style>\n",
              "  .colab-df-quickchart {\n",
              "      --bg-color: #E8F0FE;\n",
              "      --fill-color: #1967D2;\n",
              "      --hover-bg-color: #E2EBFA;\n",
              "      --hover-fill-color: #174EA6;\n",
              "      --disabled-fill-color: #AAA;\n",
              "      --disabled-bg-color: #DDD;\n",
              "  }\n",
              "\n",
              "  [theme=dark] .colab-df-quickchart {\n",
              "      --bg-color: #3B4455;\n",
              "      --fill-color: #D2E3FC;\n",
              "      --hover-bg-color: #434B5C;\n",
              "      --hover-fill-color: #FFFFFF;\n",
              "      --disabled-bg-color: #3B4455;\n",
              "      --disabled-fill-color: #666;\n",
              "  }\n",
              "\n",
              "  .colab-df-quickchart {\n",
              "    background-color: var(--bg-color);\n",
              "    border: none;\n",
              "    border-radius: 50%;\n",
              "    cursor: pointer;\n",
              "    display: none;\n",
              "    fill: var(--fill-color);\n",
              "    height: 32px;\n",
              "    padding: 0;\n",
              "    width: 32px;\n",
              "  }\n",
              "\n",
              "  .colab-df-quickchart:hover {\n",
              "    background-color: var(--hover-bg-color);\n",
              "    box-shadow: 0 1px 2px rgba(60, 64, 67, 0.3), 0 1px 3px 1px rgba(60, 64, 67, 0.15);\n",
              "    fill: var(--button-hover-fill-color);\n",
              "  }\n",
              "\n",
              "  .colab-df-quickchart-complete:disabled,\n",
              "  .colab-df-quickchart-complete:disabled:hover {\n",
              "    background-color: var(--disabled-bg-color);\n",
              "    fill: var(--disabled-fill-color);\n",
              "    box-shadow: none;\n",
              "  }\n",
              "\n",
              "  .colab-df-spinner {\n",
              "    border: 2px solid var(--fill-color);\n",
              "    border-color: transparent;\n",
              "    border-bottom-color: var(--fill-color);\n",
              "    animation:\n",
              "      spin 1s steps(1) infinite;\n",
              "  }\n",
              "\n",
              "  @keyframes spin {\n",
              "    0% {\n",
              "      border-color: transparent;\n",
              "      border-bottom-color: var(--fill-color);\n",
              "      border-left-color: var(--fill-color);\n",
              "    }\n",
              "    20% {\n",
              "      border-color: transparent;\n",
              "      border-left-color: var(--fill-color);\n",
              "      border-top-color: var(--fill-color);\n",
              "    }\n",
              "    30% {\n",
              "      border-color: transparent;\n",
              "      border-left-color: var(--fill-color);\n",
              "      border-top-color: var(--fill-color);\n",
              "      border-right-color: var(--fill-color);\n",
              "    }\n",
              "    40% {\n",
              "      border-color: transparent;\n",
              "      border-right-color: var(--fill-color);\n",
              "      border-top-color: var(--fill-color);\n",
              "    }\n",
              "    60% {\n",
              "      border-color: transparent;\n",
              "      border-right-color: var(--fill-color);\n",
              "    }\n",
              "    80% {\n",
              "      border-color: transparent;\n",
              "      border-right-color: var(--fill-color);\n",
              "      border-bottom-color: var(--fill-color);\n",
              "    }\n",
              "    90% {\n",
              "      border-color: transparent;\n",
              "      border-bottom-color: var(--fill-color);\n",
              "    }\n",
              "  }\n",
              "</style>\n",
              "\n",
              "  <script>\n",
              "    async function quickchart(key) {\n",
              "      const quickchartButtonEl =\n",
              "        document.querySelector('#' + key + ' button');\n",
              "      quickchartButtonEl.disabled = true;  // To prevent multiple clicks.\n",
              "      quickchartButtonEl.classList.add('colab-df-spinner');\n",
              "      try {\n",
              "        const charts = await google.colab.kernel.invokeFunction(\n",
              "            'suggestCharts', [key], {});\n",
              "      } catch (error) {\n",
              "        console.error('Error during call to suggestCharts:', error);\n",
              "      }\n",
              "      quickchartButtonEl.classList.remove('colab-df-spinner');\n",
              "      quickchartButtonEl.classList.add('colab-df-quickchart-complete');\n",
              "    }\n",
              "    (() => {\n",
              "      let quickchartButtonEl =\n",
              "        document.querySelector('#df-89afa6df-a9e6-4377-8a1d-3c011801c1a0 button');\n",
              "      quickchartButtonEl.style.display =\n",
              "        google.colab.kernel.accessAllowed ? 'block' : 'none';\n",
              "    })();\n",
              "  </script>\n",
              "</div>\n",
              "\n",
              "    </div>\n",
              "  </div>\n"
            ],
            "text/plain": [
              "      Review id                                  Review header  \\\n",
              "0  anchor885571                    \"very terrible experience\"    \n",
              "1  anchor881710  \"very concerned about the safety of Aeroflot\"   \n",
              "2  anchor767446              \"felt very rushed and unpolished\"   \n",
              "3  anchor758822                       \"Best airline in Russia\"   \n",
              "4  anchor754420                  \"cabin crew were outstanding\"   \n",
              "\n",
              "                                              Review Recommended  \\\n",
              "0  i bought roundtrip and return tickets from _gp...          no   \n",
              "1  i am shocked at how far aeroflot standards hav...          no   \n",
              "2  aeroflot has set high standards of achieving a...          no   \n",
              "3  best airline in _gpe_ very nice staff comforta...         yes   \n",
              "4  i was very impressed with the staff many thank...         yes   \n",
              "\n",
              "                                      Review_cleaned  \\\n",
              "0  buy roundtrip return ticket _gpe_ _gpe_ via _g...   \n",
              "1  shock far aeroflot standard fall since invade ...   \n",
              "2  aeroflot set high standard achieve star airlin...   \n",
              "3  best airline _gpe_ nice staff comfortable seat...   \n",
              "4  impress staff many thank aeroflot representati...   \n",
              "\n",
              "                                      Review_bigrams  \\\n",
              "0  buy roundtrip return ticket _gpe_ _gpe_ via _g...   \n",
              "1  shock far aeroflot standard fall since invade ...   \n",
              "2  aeroflot set high standard achieve star airlin...   \n",
              "3  best airline _gpe_ nice staff comfortable seat...   \n",
              "4  impress staff many thank aeroflot representati...   \n",
              "\n",
              "                                     Review_trigrams  \n",
              "0  buy roundtrip return ticket _gpe_ _gpe_ via _g...  \n",
              "1  shock far aeroflot standard fall since invade ...  \n",
              "2  aeroflot set high standard achieve star airlin...  \n",
              "3  best airline _gpe_ nice staff comfortable seat...  \n",
              "4  impress staff many thank aeroflot representati...  "
            ]
          },
          "execution_count": 2,
          "metadata": {},
          "output_type": "execute_result"
        }
      ],
      "source": [
        "df = pd.read_csv('/content/drive/MyDrive/BA documents/data/text_cleaning_new.csv')\n",
        "df.head()"
      ]
    },
    {
      "cell_type": "code",
      "execution_count": null,
      "metadata": {
        "id": "SWTUZXS3NW0S"
      },
      "outputs": [],
      "source": [
        "df['Recommended'] = df['Recommended'].map({'yes': 1, 'no': 0})\n",
        "X = df['Review_trigrams']\n",
        "y = df['Recommended']\n",
        "X_train, X_test, y_train, y_test = train_test_split(X, y, test_size=0.2, random_state=42)"
      ]
    },
    {
      "cell_type": "markdown",
      "metadata": {
        "id": "YcsNOL2MNgjv"
      },
      "source": [
        "# Tokenize"
      ]
    },
    {
      "cell_type": "code",
      "execution_count": null,
      "metadata": {
        "colab": {
          "base_uri": "https://localhost:8080/"
        },
        "id": "w9qaZxK3NeSt",
        "outputId": "9a9af9a4-f4ec-42e2-9ac6-aa89f625cbb2"
      },
      "outputs": [
        {
          "name": "stderr",
          "output_type": "stream",
          "text": [
            "100%|██████████| 46345/46345 [00:24<00:00, 1910.54it/s]\n",
            "100%|██████████| 11587/11587 [00:03<00:00, 2911.39it/s]\n"
          ]
        }
      ],
      "source": [
        "tokenizedText_train=[nltk.word_tokenize(item) for item in tqdm(X_train, total=len(X_train))]\n",
        "tokenizedText_test=[nltk.word_tokenize(item) for item in tqdm(X_test, total=len(X_test))]"
      ]
    },
    {
      "cell_type": "markdown",
      "metadata": {
        "id": "8oRDfYTKNw3Q"
      },
      "source": [
        "# CBow"
      ]
    },
    {
      "cell_type": "code",
      "execution_count": null,
      "metadata": {
        "id": "LqEYv9BuNjT6"
      },
      "outputs": [],
      "source": [
        "# embeddingsSize=128\n",
        "model=Word2Vec(tokenizedText_train,\n",
        "              #  vector_size=embeddingsSize,\n",
        "               window=5, min_count=1, workers=4,\n",
        "               vector_size=128)"
      ]
    },
    {
      "cell_type": "code",
      "execution_count": null,
      "metadata": {
        "colab": {
          "base_uri": "https://localhost:8080/"
        },
        "id": "bPhtOc71OBiK",
        "outputId": "76ed8c6e-0e63-4324-d7d2-97fa76c5dc40"
      },
      "outputs": [
        {
          "name": "stderr",
          "output_type": "stream",
          "text": [
            "100%|██████████| 46345/46345 [00:14<00:00, 3281.98it/s]\n",
            "100%|██████████| 11587/11587 [00:03<00:00, 3513.12it/s]\n"
          ]
        }
      ],
      "source": [
        "trainReviewVectors=getVectors(model,tokenizedText_train,128)\n",
        "testReviewVectors=getVectors(model,tokenizedText_test,128)"
      ]
    },
    {
      "cell_type": "markdown",
      "metadata": {
        "id": "-VKlLHUROF5a"
      },
      "source": [
        "# ML models"
      ]
    },
    {
      "cell_type": "markdown",
      "metadata": {
        "id": "QFeqfs-POHtE"
      },
      "source": [
        "## SVM"
      ]
    },
    {
      "cell_type": "code",
      "execution_count": null,
      "metadata": {
        "colab": {
          "base_uri": "https://localhost:8080/"
        },
        "id": "jhYMFCNXODVa",
        "outputId": "be85b7cb-40dd-4e65-abff-fce617f92099"
      },
      "outputs": [
        {
          "name": "stdout",
          "output_type": "stream",
          "text": [
            "              precision    recall  f1-score   support\n",
            "\n",
            "           0       0.92      0.94      0.93      7050\n",
            "           1       0.91      0.88      0.89      4537\n",
            "\n",
            "    accuracy                           0.92     11587\n",
            "   macro avg       0.92      0.91      0.91     11587\n",
            "weighted avg       0.92      0.92      0.92     11587\n",
            "\n"
          ]
        },
        {
          "name": "stderr",
          "output_type": "stream",
          "text": [
            "/usr/local/lib/python3.10/dist-packages/sklearn/svm/_base.py:1244: ConvergenceWarning: Liblinear failed to converge, increase the number of iterations.\n",
            "  warnings.warn(\n"
          ]
        }
      ],
      "source": [
        "clf = LinearSVC(random_state=0)\n",
        "clf.fit(trainReviewVectors, y_train)\n",
        "y_pred = clf.predict(testReviewVectors)\n",
        "print(classification_report(y_test, y_pred))"
      ]
    },
    {
      "cell_type": "markdown",
      "metadata": {
        "id": "SEk-AP_vOjxB"
      },
      "source": [
        "## Logistic Regression"
      ]
    },
    {
      "cell_type": "code",
      "execution_count": null,
      "metadata": {
        "colab": {
          "base_uri": "https://localhost:8080/"
        },
        "id": "J_HiGKKuOJ-T",
        "outputId": "a7d01f2e-0012-4cba-cba2-060f359d4435"
      },
      "outputs": [
        {
          "name": "stdout",
          "output_type": "stream",
          "text": [
            "              precision    recall  f1-score   support\n",
            "\n",
            "           0       0.92      0.94      0.93      7050\n",
            "           1       0.91      0.88      0.89      4537\n",
            "\n",
            "    accuracy                           0.92     11587\n",
            "   macro avg       0.92      0.91      0.91     11587\n",
            "weighted avg       0.92      0.92      0.92     11587\n",
            "\n"
          ]
        }
      ],
      "source": [
        "clf = LogisticRegression(max_iter=1000)\n",
        "clf.fit(trainReviewVectors, y_train)\n",
        "y_pred = clf.predict(testReviewVectors)\n",
        "print(classification_report(y_test, y_pred))"
      ]
    },
    {
      "cell_type": "markdown",
      "metadata": {
        "id": "m9Q4e3DdO1Zu"
      },
      "source": [
        "## Random Forest"
      ]
    },
    {
      "cell_type": "code",
      "execution_count": null,
      "metadata": {
        "colab": {
          "base_uri": "https://localhost:8080/"
        },
        "id": "xDxiKL-tOnuJ",
        "outputId": "9703892b-f0e8-4db2-a7e1-16308add2b1f"
      },
      "outputs": [
        {
          "name": "stdout",
          "output_type": "stream",
          "text": [
            "              precision    recall  f1-score   support\n",
            "\n",
            "           0       0.90      0.93      0.92      7050\n",
            "           1       0.89      0.85      0.87      4537\n",
            "\n",
            "    accuracy                           0.90     11587\n",
            "   macro avg       0.90      0.89      0.89     11587\n",
            "weighted avg       0.90      0.90      0.90     11587\n",
            "\n"
          ]
        }
      ],
      "source": [
        "clf = RandomForestClassifier()\n",
        "clf.fit(trainReviewVectors, y_train)\n",
        "y_pred = clf.predict(testReviewVectors)\n",
        "print(classification_report(y_test, y_pred))"
      ]
    },
    {
      "cell_type": "markdown",
      "metadata": {
        "id": "3PxRgLMgO5sn"
      },
      "source": [
        "## Decision Tree"
      ]
    },
    {
      "cell_type": "code",
      "execution_count": null,
      "metadata": {
        "colab": {
          "base_uri": "https://localhost:8080/"
        },
        "id": "4Xq5V1IeO3NN",
        "outputId": "40452278-eb42-45b7-9dd1-293c2413a25d"
      },
      "outputs": [
        {
          "name": "stdout",
          "output_type": "stream",
          "text": [
            "              precision    recall  f1-score   support\n",
            "\n",
            "           0       0.86      0.85      0.85      7050\n",
            "           1       0.77      0.78      0.78      4537\n",
            "\n",
            "    accuracy                           0.82     11587\n",
            "   macro avg       0.81      0.82      0.82     11587\n",
            "weighted avg       0.82      0.82      0.82     11587\n",
            "\n"
          ]
        }
      ],
      "source": [
        "clf = DecisionTreeClassifier()\n",
        "clf.fit(trainReviewVectors, y_train)\n",
        "y_pred = clf.predict(testReviewVectors)\n",
        "print(classification_report(y_test, y_pred))"
      ]
    },
    {
      "cell_type": "markdown",
      "metadata": {
        "id": "BZsiRYbsPkGL"
      },
      "source": [
        "##Gaussian NB"
      ]
    },
    {
      "cell_type": "code",
      "execution_count": null,
      "metadata": {
        "colab": {
          "base_uri": "https://localhost:8080/"
        },
        "id": "b5Of_xWLPjR0",
        "outputId": "0088a303-4d26-4339-fb7f-a015e35f7d41"
      },
      "outputs": [
        {
          "name": "stdout",
          "output_type": "stream",
          "text": [
            "              precision    recall  f1-score   support\n",
            "\n",
            "           0       0.89      0.81      0.85      7050\n",
            "           1       0.74      0.84      0.78      4537\n",
            "\n",
            "    accuracy                           0.82     11587\n",
            "   macro avg       0.81      0.82      0.82     11587\n",
            "weighted avg       0.83      0.82      0.82     11587\n",
            "\n"
          ]
        }
      ],
      "source": [
        "clf = GaussianNB()\n",
        "clf.fit(trainReviewVectors, y_train)\n",
        "y_pred = clf.predict(testReviewVectors)\n",
        "print(classification_report(y_test, y_pred))"
      ]
    },
    {
      "cell_type": "markdown",
      "metadata": {
        "id": "KbRFD5PbPsaq"
      },
      "source": [
        "## KNN"
      ]
    },
    {
      "cell_type": "code",
      "execution_count": null,
      "metadata": {
        "colab": {
          "base_uri": "https://localhost:8080/"
        },
        "id": "O2YgiBSwPo5H",
        "outputId": "ae6cd879-a685-4a73-e8fc-27e1bd1af2e3"
      },
      "outputs": [
        {
          "name": "stdout",
          "output_type": "stream",
          "text": [
            "              precision    recall  f1-score   support\n",
            "\n",
            "           0       0.91      0.91      0.91      7050\n",
            "           1       0.86      0.86      0.86      4537\n",
            "\n",
            "    accuracy                           0.89     11587\n",
            "   macro avg       0.88      0.88      0.88     11587\n",
            "weighted avg       0.89      0.89      0.89     11587\n",
            "\n"
          ]
        }
      ],
      "source": [
        "clf = KNeighborsClassifier()\n",
        "clf.fit(trainReviewVectors, y_train)\n",
        "y_pred = clf.predict(testReviewVectors)\n",
        "print(classification_report(y_test, y_pred))"
      ]
    },
    {
      "cell_type": "markdown",
      "metadata": {
        "id": "5_lbAktzQefN"
      },
      "source": [
        "## AdaBoost"
      ]
    },
    {
      "cell_type": "code",
      "execution_count": null,
      "metadata": {
        "colab": {
          "base_uri": "https://localhost:8080/"
        },
        "id": "ZqCyTpwzPtah",
        "outputId": "b1fa9886-1ea0-412a-86c3-dd69d2f70ab8"
      },
      "outputs": [
        {
          "name": "stdout",
          "output_type": "stream",
          "text": [
            "              precision    recall  f1-score   support\n",
            "\n",
            "           0       0.91      0.92      0.91      7050\n",
            "           1       0.87      0.85      0.86      4537\n",
            "\n",
            "    accuracy                           0.89     11587\n",
            "   macro avg       0.89      0.89      0.89     11587\n",
            "weighted avg       0.89      0.89      0.89     11587\n",
            "\n"
          ]
        }
      ],
      "source": [
        "adb = AdaBoostClassifier()\n",
        "adb.fit(trainReviewVectors, y_train)\n",
        "y_pred = adb.predict(testReviewVectors)\n",
        "print(classification_report(y_test, y_pred))"
      ]
    },
    {
      "cell_type": "markdown",
      "metadata": {
        "id": "gr31xJigQ3M7"
      },
      "source": [
        "## Gradient Boosting"
      ]
    },
    {
      "cell_type": "code",
      "execution_count": null,
      "metadata": {
        "colab": {
          "base_uri": "https://localhost:8080/"
        },
        "id": "DPQ0YoB8Qgu2",
        "outputId": "a5c406cc-bfcf-4259-a57d-bf34cd3cdc24"
      },
      "outputs": [
        {
          "name": "stdout",
          "output_type": "stream",
          "text": [
            "              precision    recall  f1-score   support\n",
            "\n",
            "           0       0.91      0.93      0.92      7050\n",
            "           1       0.89      0.86      0.88      4537\n",
            "\n",
            "    accuracy                           0.90     11587\n",
            "   macro avg       0.90      0.90      0.90     11587\n",
            "weighted avg       0.90      0.90      0.90     11587\n",
            "\n"
          ]
        }
      ],
      "source": [
        "gdb = GradientBoostingClassifier()\n",
        "gdb.fit(trainReviewVectors, y_train)\n",
        "y_pred = gdb.predict(testReviewVectors)\n",
        "print(classification_report(y_test, y_pred))"
      ]
    },
    {
      "cell_type": "code",
      "execution_count": null,
      "metadata": {
        "id": "TIQbc8iJQ-X2"
      },
      "outputs": [],
      "source": []
    }
  ],
  "metadata": {
    "colab": {
      "provenance": [],
      "toc_visible": true
    },
    "kernelspec": {
      "display_name": "Python 3",
      "name": "python3"
    },
    "language_info": {
      "name": "python"
    }
  },
  "nbformat": 4,
  "nbformat_minor": 0
}
