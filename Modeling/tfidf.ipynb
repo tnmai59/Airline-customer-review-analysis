{
  "nbformat": 4,
  "nbformat_minor": 0,
  "metadata": {
    "colab": {
      "provenance": [],
      "toc_visible": true,
      "machine_shape": "hm"
    },
    "kernelspec": {
      "name": "python3",
      "display_name": "Python 3"
    },
    "language_info": {
      "name": "python"
    }
  },
  "cells": [
    {
      "cell_type": "markdown",
      "source": [
        "# Download package"
      ],
      "metadata": {
        "id": "fPboEI5VYwh-"
      }
    },
    {
      "cell_type": "code",
      "source": [
        "!pip install lazypredict"
      ],
      "metadata": {
        "colab": {
          "base_uri": "https://localhost:8080/"
        },
        "id": "n5QeLeryYuue",
        "outputId": "50e6957b-7f57-4e8c-d803-c8ec1ff45118"
      },
      "execution_count": null,
      "outputs": [
        {
          "output_type": "stream",
          "name": "stdout",
          "text": [
            "Collecting lazypredict\n",
            "  Downloading lazypredict-0.2.12-py2.py3-none-any.whl (12 kB)\n",
            "Requirement already satisfied: click in /usr/local/lib/python3.10/dist-packages (from lazypredict) (8.1.7)\n",
            "Requirement already satisfied: scikit-learn in /usr/local/lib/python3.10/dist-packages (from lazypredict) (1.2.2)\n",
            "Requirement already satisfied: pandas in /usr/local/lib/python3.10/dist-packages (from lazypredict) (1.5.3)\n",
            "Requirement already satisfied: tqdm in /usr/local/lib/python3.10/dist-packages (from lazypredict) (4.66.2)\n",
            "Requirement already satisfied: joblib in /usr/local/lib/python3.10/dist-packages (from lazypredict) (1.3.2)\n",
            "Requirement already satisfied: lightgbm in /usr/local/lib/python3.10/dist-packages (from lazypredict) (4.1.0)\n",
            "Requirement already satisfied: xgboost in /usr/local/lib/python3.10/dist-packages (from lazypredict) (2.0.3)\n",
            "Requirement already satisfied: numpy in /usr/local/lib/python3.10/dist-packages (from lightgbm->lazypredict) (1.25.2)\n",
            "Requirement already satisfied: scipy in /usr/local/lib/python3.10/dist-packages (from lightgbm->lazypredict) (1.11.4)\n",
            "Requirement already satisfied: python-dateutil>=2.8.1 in /usr/local/lib/python3.10/dist-packages (from pandas->lazypredict) (2.8.2)\n",
            "Requirement already satisfied: pytz>=2020.1 in /usr/local/lib/python3.10/dist-packages (from pandas->lazypredict) (2023.4)\n",
            "Requirement already satisfied: threadpoolctl>=2.0.0 in /usr/local/lib/python3.10/dist-packages (from scikit-learn->lazypredict) (3.3.0)\n",
            "Requirement already satisfied: six>=1.5 in /usr/local/lib/python3.10/dist-packages (from python-dateutil>=2.8.1->pandas->lazypredict) (1.16.0)\n",
            "Installing collected packages: lazypredict\n",
            "Successfully installed lazypredict-0.2.12\n"
          ]
        }
      ]
    },
    {
      "cell_type": "markdown",
      "source": [
        "# Import libraries"
      ],
      "metadata": {
        "id": "gCU3oObzZEKe"
      }
    },
    {
      "cell_type": "code",
      "execution_count": null,
      "metadata": {
        "id": "_KOk-0BpWCul"
      },
      "outputs": [],
      "source": [
        "import pandas as pd\n",
        "from sklearn.model_selection import train_test_split\n",
        "from sklearn.feature_extraction.text import TfidfVectorizer\n",
        "from lazypredict.Supervised import LazyClassifier"
      ]
    },
    {
      "cell_type": "markdown",
      "source": [
        "# Loading data"
      ],
      "metadata": {
        "id": "lc-k1xY3ZHTV"
      }
    },
    {
      "cell_type": "code",
      "source": [
        "df = pd.read_csv('/content/drive/MyDrive/BA documents/data/text_cleaning_new.csv')\n",
        "df.head()"
      ],
      "metadata": {
        "colab": {
          "base_uri": "https://localhost:8080/",
          "height": 588
        },
        "id": "pDF4Rv2iZBid",
        "outputId": "5dec18f7-f439-4938-c127-9909c90a73a2"
      },
      "execution_count": null,
      "outputs": [
        {
          "output_type": "execute_result",
          "data": {
            "text/plain": [
              "      Review id                                  Review header  \\\n",
              "0  anchor885571                    \"very terrible experience\"    \n",
              "1  anchor881710  \"very concerned about the safety of Aeroflot\"   \n",
              "2  anchor767446              \"felt very rushed and unpolished\"   \n",
              "3  anchor758822                       \"Best airline in Russia\"   \n",
              "4  anchor754420                  \"cabin crew were outstanding\"   \n",
              "\n",
              "                                              Review Recommended  \\\n",
              "0  i bought roundtrip and return tickets from _gp...          no   \n",
              "1  i am shocked at how far aeroflot standards hav...          no   \n",
              "2  aeroflot has set high standards of achieving a...          no   \n",
              "3  best airline in _gpe_ very nice staff comforta...         yes   \n",
              "4  i was very impressed with the staff many thank...         yes   \n",
              "\n",
              "                                      Review_cleaned  \\\n",
              "0  buy roundtrip return ticket _gpe_ _gpe_ via _g...   \n",
              "1  shock far aeroflot standard fall since invade ...   \n",
              "2  aeroflot set high standard achieve star airlin...   \n",
              "3  best airline _gpe_ nice staff comfortable seat...   \n",
              "4  impress staff many thank aeroflot representati...   \n",
              "\n",
              "                                      Review_bigrams  \\\n",
              "0  buy roundtrip return ticket _gpe_ _gpe_ via _g...   \n",
              "1  shock far aeroflot standard fall since invade ...   \n",
              "2  aeroflot set high standard achieve star airlin...   \n",
              "3  best airline _gpe_ nice staff comfortable seat...   \n",
              "4  impress staff many thank aeroflot representati...   \n",
              "\n",
              "                                     Review_trigrams  \n",
              "0  buy roundtrip return ticket _gpe_ _gpe_ via _g...  \n",
              "1  shock far aeroflot standard fall since invade ...  \n",
              "2  aeroflot set high standard achieve star airlin...  \n",
              "3  best airline _gpe_ nice staff comfortable seat...  \n",
              "4  impress staff many thank aeroflot representati...  "
            ],
            "text/html": [
              "\n",
              "  <div id=\"df-7849170a-1fd5-40f9-b4bd-b6b6a357a4df\" class=\"colab-df-container\">\n",
              "    <div>\n",
              "<style scoped>\n",
              "    .dataframe tbody tr th:only-of-type {\n",
              "        vertical-align: middle;\n",
              "    }\n",
              "\n",
              "    .dataframe tbody tr th {\n",
              "        vertical-align: top;\n",
              "    }\n",
              "\n",
              "    .dataframe thead th {\n",
              "        text-align: right;\n",
              "    }\n",
              "</style>\n",
              "<table border=\"1\" class=\"dataframe\">\n",
              "  <thead>\n",
              "    <tr style=\"text-align: right;\">\n",
              "      <th></th>\n",
              "      <th>Review id</th>\n",
              "      <th>Review header</th>\n",
              "      <th>Review</th>\n",
              "      <th>Recommended</th>\n",
              "      <th>Review_cleaned</th>\n",
              "      <th>Review_bigrams</th>\n",
              "      <th>Review_trigrams</th>\n",
              "    </tr>\n",
              "  </thead>\n",
              "  <tbody>\n",
              "    <tr>\n",
              "      <th>0</th>\n",
              "      <td>anchor885571</td>\n",
              "      <td>\"very terrible experience\"</td>\n",
              "      <td>i bought roundtrip and return tickets from _gp...</td>\n",
              "      <td>no</td>\n",
              "      <td>buy roundtrip return ticket _gpe_ _gpe_ via _g...</td>\n",
              "      <td>buy roundtrip return ticket _gpe_ _gpe_ via _g...</td>\n",
              "      <td>buy roundtrip return ticket _gpe_ _gpe_ via _g...</td>\n",
              "    </tr>\n",
              "    <tr>\n",
              "      <th>1</th>\n",
              "      <td>anchor881710</td>\n",
              "      <td>\"very concerned about the safety of Aeroflot\"</td>\n",
              "      <td>i am shocked at how far aeroflot standards hav...</td>\n",
              "      <td>no</td>\n",
              "      <td>shock far aeroflot standard fall since invade ...</td>\n",
              "      <td>shock far aeroflot standard fall since invade ...</td>\n",
              "      <td>shock far aeroflot standard fall since invade ...</td>\n",
              "    </tr>\n",
              "    <tr>\n",
              "      <th>2</th>\n",
              "      <td>anchor767446</td>\n",
              "      <td>\"felt very rushed and unpolished\"</td>\n",
              "      <td>aeroflot has set high standards of achieving a...</td>\n",
              "      <td>no</td>\n",
              "      <td>aeroflot set high standard achieve star airlin...</td>\n",
              "      <td>aeroflot set high standard achieve star airlin...</td>\n",
              "      <td>aeroflot set high standard achieve star airlin...</td>\n",
              "    </tr>\n",
              "    <tr>\n",
              "      <th>3</th>\n",
              "      <td>anchor758822</td>\n",
              "      <td>\"Best airline in Russia\"</td>\n",
              "      <td>best airline in _gpe_ very nice staff comforta...</td>\n",
              "      <td>yes</td>\n",
              "      <td>best airline _gpe_ nice staff comfortable seat...</td>\n",
              "      <td>best airline _gpe_ nice staff comfortable seat...</td>\n",
              "      <td>best airline _gpe_ nice staff comfortable seat...</td>\n",
              "    </tr>\n",
              "    <tr>\n",
              "      <th>4</th>\n",
              "      <td>anchor754420</td>\n",
              "      <td>\"cabin crew were outstanding\"</td>\n",
              "      <td>i was very impressed with the staff many thank...</td>\n",
              "      <td>yes</td>\n",
              "      <td>impress staff many thank aeroflot representati...</td>\n",
              "      <td>impress staff many thank aeroflot representati...</td>\n",
              "      <td>impress staff many thank aeroflot representati...</td>\n",
              "    </tr>\n",
              "  </tbody>\n",
              "</table>\n",
              "</div>\n",
              "    <div class=\"colab-df-buttons\">\n",
              "\n",
              "  <div class=\"colab-df-container\">\n",
              "    <button class=\"colab-df-convert\" onclick=\"convertToInteractive('df-7849170a-1fd5-40f9-b4bd-b6b6a357a4df')\"\n",
              "            title=\"Convert this dataframe to an interactive table.\"\n",
              "            style=\"display:none;\">\n",
              "\n",
              "  <svg xmlns=\"http://www.w3.org/2000/svg\" height=\"24px\" viewBox=\"0 -960 960 960\">\n",
              "    <path d=\"M120-120v-720h720v720H120Zm60-500h600v-160H180v160Zm220 220h160v-160H400v160Zm0 220h160v-160H400v160ZM180-400h160v-160H180v160Zm440 0h160v-160H620v160ZM180-180h160v-160H180v160Zm440 0h160v-160H620v160Z\"/>\n",
              "  </svg>\n",
              "    </button>\n",
              "\n",
              "  <style>\n",
              "    .colab-df-container {\n",
              "      display:flex;\n",
              "      gap: 12px;\n",
              "    }\n",
              "\n",
              "    .colab-df-convert {\n",
              "      background-color: #E8F0FE;\n",
              "      border: none;\n",
              "      border-radius: 50%;\n",
              "      cursor: pointer;\n",
              "      display: none;\n",
              "      fill: #1967D2;\n",
              "      height: 32px;\n",
              "      padding: 0 0 0 0;\n",
              "      width: 32px;\n",
              "    }\n",
              "\n",
              "    .colab-df-convert:hover {\n",
              "      background-color: #E2EBFA;\n",
              "      box-shadow: 0px 1px 2px rgba(60, 64, 67, 0.3), 0px 1px 3px 1px rgba(60, 64, 67, 0.15);\n",
              "      fill: #174EA6;\n",
              "    }\n",
              "\n",
              "    .colab-df-buttons div {\n",
              "      margin-bottom: 4px;\n",
              "    }\n",
              "\n",
              "    [theme=dark] .colab-df-convert {\n",
              "      background-color: #3B4455;\n",
              "      fill: #D2E3FC;\n",
              "    }\n",
              "\n",
              "    [theme=dark] .colab-df-convert:hover {\n",
              "      background-color: #434B5C;\n",
              "      box-shadow: 0px 1px 3px 1px rgba(0, 0, 0, 0.15);\n",
              "      filter: drop-shadow(0px 1px 2px rgba(0, 0, 0, 0.3));\n",
              "      fill: #FFFFFF;\n",
              "    }\n",
              "  </style>\n",
              "\n",
              "    <script>\n",
              "      const buttonEl =\n",
              "        document.querySelector('#df-7849170a-1fd5-40f9-b4bd-b6b6a357a4df button.colab-df-convert');\n",
              "      buttonEl.style.display =\n",
              "        google.colab.kernel.accessAllowed ? 'block' : 'none';\n",
              "\n",
              "      async function convertToInteractive(key) {\n",
              "        const element = document.querySelector('#df-7849170a-1fd5-40f9-b4bd-b6b6a357a4df');\n",
              "        const dataTable =\n",
              "          await google.colab.kernel.invokeFunction('convertToInteractive',\n",
              "                                                    [key], {});\n",
              "        if (!dataTable) return;\n",
              "\n",
              "        const docLinkHtml = 'Like what you see? Visit the ' +\n",
              "          '<a target=\"_blank\" href=https://colab.research.google.com/notebooks/data_table.ipynb>data table notebook</a>'\n",
              "          + ' to learn more about interactive tables.';\n",
              "        element.innerHTML = '';\n",
              "        dataTable['output_type'] = 'display_data';\n",
              "        await google.colab.output.renderOutput(dataTable, element);\n",
              "        const docLink = document.createElement('div');\n",
              "        docLink.innerHTML = docLinkHtml;\n",
              "        element.appendChild(docLink);\n",
              "      }\n",
              "    </script>\n",
              "  </div>\n",
              "\n",
              "\n",
              "<div id=\"df-0b760f66-7720-449c-a278-a35e5634f737\">\n",
              "  <button class=\"colab-df-quickchart\" onclick=\"quickchart('df-0b760f66-7720-449c-a278-a35e5634f737')\"\n",
              "            title=\"Suggest charts\"\n",
              "            style=\"display:none;\">\n",
              "\n",
              "<svg xmlns=\"http://www.w3.org/2000/svg\" height=\"24px\"viewBox=\"0 0 24 24\"\n",
              "     width=\"24px\">\n",
              "    <g>\n",
              "        <path d=\"M19 3H5c-1.1 0-2 .9-2 2v14c0 1.1.9 2 2 2h14c1.1 0 2-.9 2-2V5c0-1.1-.9-2-2-2zM9 17H7v-7h2v7zm4 0h-2V7h2v10zm4 0h-2v-4h2v4z\"/>\n",
              "    </g>\n",
              "</svg>\n",
              "  </button>\n",
              "\n",
              "<style>\n",
              "  .colab-df-quickchart {\n",
              "      --bg-color: #E8F0FE;\n",
              "      --fill-color: #1967D2;\n",
              "      --hover-bg-color: #E2EBFA;\n",
              "      --hover-fill-color: #174EA6;\n",
              "      --disabled-fill-color: #AAA;\n",
              "      --disabled-bg-color: #DDD;\n",
              "  }\n",
              "\n",
              "  [theme=dark] .colab-df-quickchart {\n",
              "      --bg-color: #3B4455;\n",
              "      --fill-color: #D2E3FC;\n",
              "      --hover-bg-color: #434B5C;\n",
              "      --hover-fill-color: #FFFFFF;\n",
              "      --disabled-bg-color: #3B4455;\n",
              "      --disabled-fill-color: #666;\n",
              "  }\n",
              "\n",
              "  .colab-df-quickchart {\n",
              "    background-color: var(--bg-color);\n",
              "    border: none;\n",
              "    border-radius: 50%;\n",
              "    cursor: pointer;\n",
              "    display: none;\n",
              "    fill: var(--fill-color);\n",
              "    height: 32px;\n",
              "    padding: 0;\n",
              "    width: 32px;\n",
              "  }\n",
              "\n",
              "  .colab-df-quickchart:hover {\n",
              "    background-color: var(--hover-bg-color);\n",
              "    box-shadow: 0 1px 2px rgba(60, 64, 67, 0.3), 0 1px 3px 1px rgba(60, 64, 67, 0.15);\n",
              "    fill: var(--button-hover-fill-color);\n",
              "  }\n",
              "\n",
              "  .colab-df-quickchart-complete:disabled,\n",
              "  .colab-df-quickchart-complete:disabled:hover {\n",
              "    background-color: var(--disabled-bg-color);\n",
              "    fill: var(--disabled-fill-color);\n",
              "    box-shadow: none;\n",
              "  }\n",
              "\n",
              "  .colab-df-spinner {\n",
              "    border: 2px solid var(--fill-color);\n",
              "    border-color: transparent;\n",
              "    border-bottom-color: var(--fill-color);\n",
              "    animation:\n",
              "      spin 1s steps(1) infinite;\n",
              "  }\n",
              "\n",
              "  @keyframes spin {\n",
              "    0% {\n",
              "      border-color: transparent;\n",
              "      border-bottom-color: var(--fill-color);\n",
              "      border-left-color: var(--fill-color);\n",
              "    }\n",
              "    20% {\n",
              "      border-color: transparent;\n",
              "      border-left-color: var(--fill-color);\n",
              "      border-top-color: var(--fill-color);\n",
              "    }\n",
              "    30% {\n",
              "      border-color: transparent;\n",
              "      border-left-color: var(--fill-color);\n",
              "      border-top-color: var(--fill-color);\n",
              "      border-right-color: var(--fill-color);\n",
              "    }\n",
              "    40% {\n",
              "      border-color: transparent;\n",
              "      border-right-color: var(--fill-color);\n",
              "      border-top-color: var(--fill-color);\n",
              "    }\n",
              "    60% {\n",
              "      border-color: transparent;\n",
              "      border-right-color: var(--fill-color);\n",
              "    }\n",
              "    80% {\n",
              "      border-color: transparent;\n",
              "      border-right-color: var(--fill-color);\n",
              "      border-bottom-color: var(--fill-color);\n",
              "    }\n",
              "    90% {\n",
              "      border-color: transparent;\n",
              "      border-bottom-color: var(--fill-color);\n",
              "    }\n",
              "  }\n",
              "</style>\n",
              "\n",
              "  <script>\n",
              "    async function quickchart(key) {\n",
              "      const quickchartButtonEl =\n",
              "        document.querySelector('#' + key + ' button');\n",
              "      quickchartButtonEl.disabled = true;  // To prevent multiple clicks.\n",
              "      quickchartButtonEl.classList.add('colab-df-spinner');\n",
              "      try {\n",
              "        const charts = await google.colab.kernel.invokeFunction(\n",
              "            'suggestCharts', [key], {});\n",
              "      } catch (error) {\n",
              "        console.error('Error during call to suggestCharts:', error);\n",
              "      }\n",
              "      quickchartButtonEl.classList.remove('colab-df-spinner');\n",
              "      quickchartButtonEl.classList.add('colab-df-quickchart-complete');\n",
              "    }\n",
              "    (() => {\n",
              "      let quickchartButtonEl =\n",
              "        document.querySelector('#df-0b760f66-7720-449c-a278-a35e5634f737 button');\n",
              "      quickchartButtonEl.style.display =\n",
              "        google.colab.kernel.accessAllowed ? 'block' : 'none';\n",
              "    })();\n",
              "  </script>\n",
              "</div>\n",
              "\n",
              "    </div>\n",
              "  </div>\n"
            ],
            "application/vnd.google.colaboratory.intrinsic+json": {
              "type": "dataframe",
              "variable_name": "df",
              "summary": "{\n  \"name\": \"df\",\n  \"rows\": 57932,\n  \"fields\": [\n    {\n      \"column\": \"Review id\",\n      \"properties\": {\n        \"dtype\": \"string\",\n        \"num_unique_values\": 57932,\n        \"samples\": [\n          \"anchor836096\",\n          \"anchor817437\",\n          \"anchor595880\"\n        ],\n        \"semantic_type\": \"\",\n        \"description\": \"\"\n      }\n    },\n    {\n      \"column\": \"Review header\",\n      \"properties\": {\n        \"dtype\": \"string\",\n        \"num_unique_values\": 46636,\n        \"samples\": [\n          \"\\\"What used to be excellent soft product has really worsened\\\"\",\n          \"\\\"airline staff was horrible\\\"\",\n          \"\\\"Air France did not meet my expectations\\\"\"\n        ],\n        \"semantic_type\": \"\",\n        \"description\": \"\"\n      }\n    },\n    {\n      \"column\": \"Review\",\n      \"properties\": {\n        \"dtype\": \"string\",\n        \"num_unique_values\": 57918,\n        \"samples\": [\n          \"worst experience of my life the pilot was taking her time after boarding all the instructions had already been explained and they sat there for _time_ _time_ after instructions were instructed so i got up to use restroom it was an emergency the flight attendant had the nerve to block the bathroom and tell me to sit back down i said that it was an emergancy and they kicked my family off the flight this is unbelievable and unfair and we are stuck without a flight back home i am not okay with this\",\n          \"_gpe_ to _gpe_ seats are slightly better compared to airaasia however priority privilege such as board me first was not given after purchasing flight experience was acceptable for low cost carrier flights\",\n          \"_gpe_ to _gpe_ with frontier airlines given all the extremely negative reviews i felt the need to share my experience frontier is a discount airline there are no hidden fees they beat you over the head with all of their fees book your bags now for _money_ if you book at airport it will be _money_ how people are surprised by this i do not know you can easily log into their website calculate the seat fees luggage fees etc and then compare to other airlines the plane was nice i was shocked plane took off on time and landed early yay so based on this one flight i will give them a i will use them again if i ever needed to travel for cheap and was n t on a strict timeline\"\n        ],\n        \"semantic_type\": \"\",\n        \"description\": \"\"\n      }\n    },\n    {\n      \"column\": \"Recommended\",\n      \"properties\": {\n        \"dtype\": \"category\",\n        \"num_unique_values\": 2,\n        \"samples\": [\n          \"yes\",\n          \"no\"\n        ],\n        \"semantic_type\": \"\",\n        \"description\": \"\"\n      }\n    },\n    {\n      \"column\": \"Review_cleaned\",\n      \"properties\": {\n        \"dtype\": \"string\",\n        \"num_unique_values\": 57916,\n        \"samples\": [\n          \"_gpe_ _gpe_ _gpe_ b look bite tire compare b er seat pitch seem tight entertainment screen crack fully respond headset awful seem increase engine noise necessitate deafen volume hear anything screen seat cushion bite lack pad wine arrive early climb _time_ _time_ experience severe turbulence spite regular call seat belt fasten even crew return seat lengthy period service somehow maintain dinner time king prawn rice green sweet chile sauce good often business class approach _gpe_ equally bumpy finish excellent smooth land _time_ _time_ compliment purser staff performance invite area rear repeat comment want hear compliment give couple drambuie take home souvenir good way fly economy although try get b er possibly bring noise cancel headset\",\n          \"bad airline ever travel start use _date_ _date_ try airline like southwest jetblue delta always delay rude staff overprice cancel ticket _time_ book overcharge everything never book bye bye unite ever\"\n        ],\n        \"semantic_type\": \"\",\n        \"description\": \"\"\n      }\n    },\n    {\n      \"column\": \"Review_bigrams\",\n      \"properties\": {\n        \"dtype\": \"string\",\n        \"num_unique_values\": 57916,\n        \"samples\": [\n          \"_gpe_ _gpe_ _gpe_ b look bite tire compare b_er seat pitch seem tight entertainment screen crack fully respond headset awful seem increase engine noise necessitate deafen volume hear anything screen seat cushion bite lack pad wine arrive early climb _time_ _time_ experience severe turbulence spite regular call seat belt fasten even crew return seat lengthy period service somehow maintain dinner time king prawn rice green sweet chile sauce good often business class approach _gpe_ equally bumpy finish excellent smooth land _time_ _time_ compliment purser staff performance invite area rear repeat comment want hear compliment give couple drambuie take home souvenir good way fly economy although try get b_er possibly bring noise cancel headset\",\n          \"bad airline ever travel start use _date_ _date_ try airline like southwest jetblue delta always delay rude staff overprice cancel ticket _time_ book overcharge everything never book bye_bye unite ever\"\n        ],\n        \"semantic_type\": \"\",\n        \"description\": \"\"\n      }\n    },\n    {\n      \"column\": \"Review_trigrams\",\n      \"properties\": {\n        \"dtype\": \"string\",\n        \"num_unique_values\": 57916,\n        \"samples\": [\n          \"_gpe_ _gpe_ _gpe_ b look bite tire compare b_er seat pitch seem tight entertainment screen crack fully respond headset awful seem increase engine noise necessitate deafen volume hear anything screen seat cushion bite lack pad wine arrive early climb _time_ _time_ experience severe_turbulence spite regular call seat belt fasten even crew return seat lengthy period service somehow maintain dinner time king prawn rice green sweet chile sauce good often business class approach _gpe_ equally bumpy finish excellent smooth land _time_ _time_ compliment purser staff performance invite area rear repeat comment want hear compliment give couple drambuie take home souvenir good way fly economy although try get b_er possibly bring noise cancel headset\",\n          \"bad airline ever travel start use _date_ _date_ try airline like southwest jetblue delta always delay rude staff overprice cancel ticket _time_ book overcharge everything never book bye_bye unite ever\"\n        ],\n        \"semantic_type\": \"\",\n        \"description\": \"\"\n      }\n    }\n  ]\n}"
            }
          },
          "metadata": {},
          "execution_count": 3
        }
      ]
    },
    {
      "cell_type": "code",
      "source": [
        "df.info()"
      ],
      "metadata": {
        "colab": {
          "base_uri": "https://localhost:8080/"
        },
        "id": "QVhj9jWhcP8O",
        "outputId": "78f14c1e-3ee2-429d-ce6a-2375a516b836"
      },
      "execution_count": null,
      "outputs": [
        {
          "output_type": "stream",
          "name": "stdout",
          "text": [
            "<class 'pandas.core.frame.DataFrame'>\n",
            "RangeIndex: 57932 entries, 0 to 57931\n",
            "Data columns (total 7 columns):\n",
            " #   Column           Non-Null Count  Dtype \n",
            "---  ------           --------------  ----- \n",
            " 0   Review id        57932 non-null  object\n",
            " 1   Review header    57932 non-null  object\n",
            " 2   Review           57932 non-null  object\n",
            " 3   Recommended      57932 non-null  object\n",
            " 4   Review_cleaned   57932 non-null  object\n",
            " 5   Review_bigrams   57932 non-null  object\n",
            " 6   Review_trigrams  57932 non-null  object\n",
            "dtypes: object(7)\n",
            "memory usage: 3.1+ MB\n"
          ]
        }
      ]
    },
    {
      "cell_type": "code",
      "source": [
        "df['Recommended'].value_counts()"
      ],
      "metadata": {
        "colab": {
          "base_uri": "https://localhost:8080/"
        },
        "id": "G84QRR0qadW1",
        "outputId": "d5289309-f934-42ef-b432-64a750130527"
      },
      "execution_count": null,
      "outputs": [
        {
          "output_type": "execute_result",
          "data": {
            "text/plain": [
              "no     34942\n",
              "yes    22990\n",
              "Name: Recommended, dtype: int64"
            ]
          },
          "metadata": {},
          "execution_count": 5
        }
      ]
    },
    {
      "cell_type": "code",
      "source": [
        "df['Recommended'] = df['Recommended'].map({'yes': 1, 'no': 0})"
      ],
      "metadata": {
        "id": "NQRu6MiVapuW"
      },
      "execution_count": null,
      "outputs": []
    },
    {
      "cell_type": "code",
      "source": [
        "X = df['Review_trigrams']\n",
        "y = df['Recommended']"
      ],
      "metadata": {
        "id": "eFRsrWkMa2Ku"
      },
      "execution_count": null,
      "outputs": []
    },
    {
      "cell_type": "code",
      "source": [
        "X_train, X_test, y_train, y_test = train_test_split(X, y, test_size=0.2, random_state=42)"
      ],
      "metadata": {
        "id": "FpT4u5SQa-cy"
      },
      "execution_count": null,
      "outputs": []
    },
    {
      "cell_type": "markdown",
      "source": [
        "# TF-IDF Vectorizer"
      ],
      "metadata": {
        "id": "WY1TL_bMbE6K"
      }
    },
    {
      "cell_type": "code",
      "source": [
        "vectorizer = TfidfVectorizer()\n",
        "X_train_tfidf = vectorizer.fit_transform(X_train)\n",
        "X_test_tfidf = vectorizer.transform(X_test)"
      ],
      "metadata": {
        "id": "FhrWMe32bA8O"
      },
      "execution_count": null,
      "outputs": []
    },
    {
      "cell_type": "code",
      "source": [
        "X_train_tfidf.shape, X_test_tfidf.shape"
      ],
      "metadata": {
        "colab": {
          "base_uri": "https://localhost:8080/"
        },
        "id": "8wj-1gvDbRs0",
        "outputId": "a8b20e4b-121a-45b1-a34b-3bc988fe5316"
      },
      "execution_count": null,
      "outputs": [
        {
          "output_type": "execute_result",
          "data": {
            "text/plain": [
              "((46345, 29383), (11587, 29383))"
            ]
          },
          "metadata": {},
          "execution_count": 10
        }
      ]
    },
    {
      "cell_type": "markdown",
      "source": [
        "# Machine learning models\n",
        "\n"
      ],
      "metadata": {
        "id": "cCjb8UTIbh6g"
      }
    },
    {
      "cell_type": "code",
      "source": [
        "from sklearn.metrics import classification_report\n",
        "from sklearn.svm import LinearSVC\n",
        "from sklearn.linear_model import LogisticRegression\n",
        "from sklearn.ensemble import RandomForestClassifier\n",
        "from sklearn.neighbors import KNeighborsClassifier\n",
        "from sklearn.naive_bayes import GaussianNB\n",
        "from sklearn.tree import DecisionTreeClassifier\n",
        "from sklearn.ensemble import AdaBoostClassifier\n",
        "from sklearn.ensemble import GradientBoostingClassifier\n"
      ],
      "metadata": {
        "id": "2_O02M8pcCa4"
      },
      "execution_count": null,
      "outputs": []
    },
    {
      "cell_type": "markdown",
      "source": [
        "## SVM"
      ],
      "metadata": {
        "id": "H_KQzQWmc6Zv"
      }
    },
    {
      "cell_type": "code",
      "source": [
        "clf = LinearSVC(random_state=0)\n",
        "clf.fit(X_train_tfidf, y_train)\n",
        "y_pred = clf.predict(X_test_tfidf)\n",
        "print(classification_report(y_test, y_pred))"
      ],
      "metadata": {
        "colab": {
          "base_uri": "https://localhost:8080/"
        },
        "id": "7J-nWmFvbaiY",
        "outputId": "a6c013ed-775c-463e-93d1-bb3e69503484"
      },
      "execution_count": null,
      "outputs": [
        {
          "output_type": "stream",
          "name": "stdout",
          "text": [
            "              precision    recall  f1-score   support\n",
            "\n",
            "           0       0.93      0.94      0.94      7050\n",
            "           1       0.91      0.89      0.90      4537\n",
            "\n",
            "    accuracy                           0.92     11587\n",
            "   macro avg       0.92      0.91      0.92     11587\n",
            "weighted avg       0.92      0.92      0.92     11587\n",
            "\n"
          ]
        }
      ]
    },
    {
      "cell_type": "markdown",
      "source": [
        "## Logistic regression"
      ],
      "metadata": {
        "id": "SJlCb_rrc8S2"
      }
    },
    {
      "cell_type": "code",
      "source": [
        "clf = LogisticRegression()\n",
        "clf.fit(X_train_tfidf, y_train)\n",
        "y_pred = clf.predict(X_test_tfidf)\n",
        "print(classification_report(y_test, y_pred))"
      ],
      "metadata": {
        "colab": {
          "base_uri": "https://localhost:8080/"
        },
        "id": "dyWNaQuBcvpx",
        "outputId": "9d238425-08e2-4084-aa89-2ef2a5c0d5a9"
      },
      "execution_count": null,
      "outputs": [
        {
          "output_type": "stream",
          "name": "stdout",
          "text": [
            "              precision    recall  f1-score   support\n",
            "\n",
            "           0       0.93      0.95      0.94      7050\n",
            "           1       0.92      0.89      0.90      4537\n",
            "\n",
            "    accuracy                           0.93     11587\n",
            "   macro avg       0.92      0.92      0.92     11587\n",
            "weighted avg       0.93      0.93      0.92     11587\n",
            "\n"
          ]
        }
      ]
    },
    {
      "cell_type": "markdown",
      "source": [
        "## Random Forest\n",
        "\n"
      ],
      "metadata": {
        "id": "FtWLVjrhdUNP"
      }
    },
    {
      "cell_type": "code",
      "source": [
        "rf = RandomForestClassifier()\n",
        "rf.fit(X_train_tfidf, y_train)\n",
        "y_pred = rf.predict(X_test_tfidf)\n",
        "print(classification_report(y_test, y_pred))"
      ],
      "metadata": {
        "colab": {
          "base_uri": "https://localhost:8080/"
        },
        "id": "JAG0PUZIdc5x",
        "outputId": "51d86e18-b0e9-4025-9d73-a503a35dceed"
      },
      "execution_count": null,
      "outputs": [
        {
          "output_type": "stream",
          "name": "stdout",
          "text": [
            "              precision    recall  f1-score   support\n",
            "\n",
            "           0       0.90      0.93      0.92      7050\n",
            "           1       0.89      0.84      0.86      4537\n",
            "\n",
            "    accuracy                           0.90     11587\n",
            "   macro avg       0.90      0.89      0.89     11587\n",
            "weighted avg       0.90      0.90      0.90     11587\n",
            "\n"
          ]
        }
      ]
    },
    {
      "cell_type": "markdown",
      "source": [
        "## Decision Tree"
      ],
      "metadata": {
        "id": "56MtU4Z1rBXs"
      }
    },
    {
      "cell_type": "code",
      "source": [
        "dt = DecisionTreeClassifier()\n",
        "dt.fit(X_train_tfidf, y_train)\n",
        "y_pred = dt.predict(X_test_tfidf)\n",
        "print(classification_report(y_test, y_pred))"
      ],
      "metadata": {
        "colab": {
          "base_uri": "https://localhost:8080/"
        },
        "id": "60por4qFeObC",
        "outputId": "0139963f-6157-40cd-e752-df36b2275bfb"
      },
      "execution_count": null,
      "outputs": [
        {
          "output_type": "stream",
          "name": "stdout",
          "text": [
            "              precision    recall  f1-score   support\n",
            "\n",
            "           0       0.85      0.85      0.85      7050\n",
            "           1       0.77      0.77      0.77      4537\n",
            "\n",
            "    accuracy                           0.82     11587\n",
            "   macro avg       0.81      0.81      0.81     11587\n",
            "weighted avg       0.82      0.82      0.82     11587\n",
            "\n"
          ]
        }
      ]
    },
    {
      "cell_type": "markdown",
      "source": [
        "## GaussianNB"
      ],
      "metadata": {
        "id": "PjDesVZssZ0R"
      }
    },
    {
      "cell_type": "code",
      "source": [
        "nb = GaussianNB()\n",
        "nb.fit(X_train_tfidf.toarray(), y_train)\n",
        "y_pred = nb.predict(X_test_tfidf.toarray())\n",
        "print(classification_report(y_test, y_pred))"
      ],
      "metadata": {
        "colab": {
          "base_uri": "https://localhost:8080/"
        },
        "id": "DzJbptK5rEOx",
        "outputId": "11c9d0e4-dbb5-433f-e3ad-ad10325e6063"
      },
      "execution_count": null,
      "outputs": [
        {
          "output_type": "stream",
          "name": "stdout",
          "text": [
            "              precision    recall  f1-score   support\n",
            "\n",
            "           0       0.79      0.28      0.41      7050\n",
            "           1       0.44      0.88      0.59      4537\n",
            "\n",
            "    accuracy                           0.52     11587\n",
            "   macro avg       0.61      0.58      0.50     11587\n",
            "weighted avg       0.65      0.52      0.48     11587\n",
            "\n"
          ]
        }
      ]
    },
    {
      "cell_type": "markdown",
      "source": [
        "## KNN"
      ],
      "metadata": {
        "id": "CdBwbO7Bt-mI"
      }
    },
    {
      "cell_type": "code",
      "source": [
        "knn = KNeighborsClassifier()\n",
        "knn.fit(X_train_tfidf, y_train)\n",
        "y_pred = knn.predict(X_test_tfidf)\n",
        "print(classification_report(y_test, y_pred))"
      ],
      "metadata": {
        "colab": {
          "base_uri": "https://localhost:8080/"
        },
        "id": "rDxTSvM7seii",
        "outputId": "d8c8f60a-482b-48f1-ee72-dcd47ee54281"
      },
      "execution_count": null,
      "outputs": [
        {
          "output_type": "stream",
          "name": "stdout",
          "text": [
            "              precision    recall  f1-score   support\n",
            "\n",
            "           0       0.84      0.90      0.87      7050\n",
            "           1       0.83      0.73      0.78      4537\n",
            "\n",
            "    accuracy                           0.84     11587\n",
            "   macro avg       0.84      0.82      0.83     11587\n",
            "weighted avg       0.84      0.84      0.84     11587\n",
            "\n"
          ]
        }
      ]
    },
    {
      "cell_type": "markdown",
      "source": [
        "## AdaBoost"
      ],
      "metadata": {
        "id": "ZMFsWRtRvtUk"
      }
    },
    {
      "cell_type": "code",
      "source": [
        "adb = AdaBoostClassifier()\n",
        "adb.fit(X_train_tfidf, y_train)\n",
        "y_pred = adb.predict(X_test_tfidf)\n",
        "print(classification_report(y_test, y_pred))"
      ],
      "metadata": {
        "colab": {
          "base_uri": "https://localhost:8080/"
        },
        "id": "W6uy_HxfuAr0",
        "outputId": "07f6dde8-c602-4a5f-8cec-c4c417fd3283"
      },
      "execution_count": null,
      "outputs": [
        {
          "output_type": "stream",
          "name": "stdout",
          "text": [
            "              precision    recall  f1-score   support\n",
            "\n",
            "           0       0.89      0.92      0.90      7050\n",
            "           1       0.86      0.82      0.84      4537\n",
            "\n",
            "    accuracy                           0.88     11587\n",
            "   macro avg       0.88      0.87      0.87     11587\n",
            "weighted avg       0.88      0.88      0.88     11587\n",
            "\n"
          ]
        }
      ]
    },
    {
      "cell_type": "markdown",
      "source": [
        "## Gradient Boosting"
      ],
      "metadata": {
        "id": "3N4BaRr7v8Z3"
      }
    },
    {
      "cell_type": "code",
      "source": [
        "gdb = GradientBoostingClassifier()\n",
        "gdb.fit(X_train_tfidf, y_train)\n",
        "y_pred = gdb.predict(X_test_tfidf)\n",
        "print(classification_report(y_test, y_pred))"
      ],
      "metadata": {
        "colab": {
          "base_uri": "https://localhost:8080/"
        },
        "id": "oWDChtbovxMv",
        "outputId": "6bf6648a-bb63-4b76-d7e3-3f8b9b319e19"
      },
      "execution_count": null,
      "outputs": [
        {
          "output_type": "stream",
          "name": "stdout",
          "text": [
            "              precision    recall  f1-score   support\n",
            "\n",
            "           0       0.89      0.93      0.91      7050\n",
            "           1       0.88      0.82      0.85      4537\n",
            "\n",
            "    accuracy                           0.89     11587\n",
            "   macro avg       0.88      0.87      0.88     11587\n",
            "weighted avg       0.89      0.89      0.89     11587\n",
            "\n"
          ]
        }
      ]
    }
  ]
}